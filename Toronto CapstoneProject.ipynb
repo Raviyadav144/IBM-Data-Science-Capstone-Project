{
 "cells": [
  {
   "cell_type": "markdown",
   "metadata": {},
   "source": [
    "## Getting data from the URL"
   ]
  },
  {
   "cell_type": "code",
   "execution_count": 1,
   "metadata": {},
   "outputs": [],
   "source": [
    "#getting the data from the url\n",
    "import pandas as pd\n",
    "df=pd.read_html(r\"https://en.wikipedia.org/wiki/List_of_postal_codes_of_Canada:_M\")"
   ]
  },
  {
   "cell_type": "code",
   "execution_count": 2,
   "metadata": {},
   "outputs": [
    {
     "data": {
      "text/plain": [
       "list"
      ]
     },
     "execution_count": 2,
     "metadata": {},
     "output_type": "execute_result"
    }
   ],
   "source": [
    "type(df)"
   ]
  },
  {
   "cell_type": "code",
   "execution_count": 4,
   "metadata": {},
   "outputs": [],
   "source": [
    "df=df[0]"
   ]
  },
  {
   "cell_type": "code",
   "execution_count": 5,
   "metadata": {},
   "outputs": [
    {
     "data": {
      "text/html": [
       "<div>\n",
       "<style scoped>\n",
       "    .dataframe tbody tr th:only-of-type {\n",
       "        vertical-align: middle;\n",
       "    }\n",
       "\n",
       "    .dataframe tbody tr th {\n",
       "        vertical-align: top;\n",
       "    }\n",
       "\n",
       "    .dataframe thead th {\n",
       "        text-align: right;\n",
       "    }\n",
       "</style>\n",
       "<table border=\"1\" class=\"dataframe\">\n",
       "  <thead>\n",
       "    <tr style=\"text-align: right;\">\n",
       "      <th></th>\n",
       "      <th>Postal Code</th>\n",
       "      <th>Borough</th>\n",
       "      <th>Neighbourhood</th>\n",
       "    </tr>\n",
       "  </thead>\n",
       "  <tbody>\n",
       "    <tr>\n",
       "      <th>0</th>\n",
       "      <td>M1A</td>\n",
       "      <td>Not assigned</td>\n",
       "      <td>Not assigned</td>\n",
       "    </tr>\n",
       "    <tr>\n",
       "      <th>1</th>\n",
       "      <td>M2A</td>\n",
       "      <td>Not assigned</td>\n",
       "      <td>Not assigned</td>\n",
       "    </tr>\n",
       "    <tr>\n",
       "      <th>2</th>\n",
       "      <td>M3A</td>\n",
       "      <td>North York</td>\n",
       "      <td>Parkwoods</td>\n",
       "    </tr>\n",
       "    <tr>\n",
       "      <th>3</th>\n",
       "      <td>M4A</td>\n",
       "      <td>North York</td>\n",
       "      <td>Victoria Village</td>\n",
       "    </tr>\n",
       "    <tr>\n",
       "      <th>4</th>\n",
       "      <td>M5A</td>\n",
       "      <td>Downtown Toronto</td>\n",
       "      <td>Regent Park, Harbourfront</td>\n",
       "    </tr>\n",
       "    <tr>\n",
       "      <th>...</th>\n",
       "      <td>...</td>\n",
       "      <td>...</td>\n",
       "      <td>...</td>\n",
       "    </tr>\n",
       "    <tr>\n",
       "      <th>175</th>\n",
       "      <td>M5Z</td>\n",
       "      <td>Not assigned</td>\n",
       "      <td>Not assigned</td>\n",
       "    </tr>\n",
       "    <tr>\n",
       "      <th>176</th>\n",
       "      <td>M6Z</td>\n",
       "      <td>Not assigned</td>\n",
       "      <td>Not assigned</td>\n",
       "    </tr>\n",
       "    <tr>\n",
       "      <th>177</th>\n",
       "      <td>M7Z</td>\n",
       "      <td>Not assigned</td>\n",
       "      <td>Not assigned</td>\n",
       "    </tr>\n",
       "    <tr>\n",
       "      <th>178</th>\n",
       "      <td>M8Z</td>\n",
       "      <td>Etobicoke</td>\n",
       "      <td>Mimico NW, The Queensway West, South of Bloor,...</td>\n",
       "    </tr>\n",
       "    <tr>\n",
       "      <th>179</th>\n",
       "      <td>M9Z</td>\n",
       "      <td>Not assigned</td>\n",
       "      <td>Not assigned</td>\n",
       "    </tr>\n",
       "  </tbody>\n",
       "</table>\n",
       "<p>180 rows × 3 columns</p>\n",
       "</div>"
      ],
      "text/plain": [
       "    Postal Code           Borough  \\\n",
       "0           M1A      Not assigned   \n",
       "1           M2A      Not assigned   \n",
       "2           M3A        North York   \n",
       "3           M4A        North York   \n",
       "4           M5A  Downtown Toronto   \n",
       "..          ...               ...   \n",
       "175         M5Z      Not assigned   \n",
       "176         M6Z      Not assigned   \n",
       "177         M7Z      Not assigned   \n",
       "178         M8Z         Etobicoke   \n",
       "179         M9Z      Not assigned   \n",
       "\n",
       "                                         Neighbourhood  \n",
       "0                                         Not assigned  \n",
       "1                                         Not assigned  \n",
       "2                                            Parkwoods  \n",
       "3                                     Victoria Village  \n",
       "4                            Regent Park, Harbourfront  \n",
       "..                                                 ...  \n",
       "175                                       Not assigned  \n",
       "176                                       Not assigned  \n",
       "177                                       Not assigned  \n",
       "178  Mimico NW, The Queensway West, South of Bloor,...  \n",
       "179                                       Not assigned  \n",
       "\n",
       "[180 rows x 3 columns]"
      ]
     },
     "execution_count": 5,
     "metadata": {},
     "output_type": "execute_result"
    }
   ],
   "source": [
    "df"
   ]
  },
  {
   "cell_type": "code",
   "execution_count": 34,
   "metadata": {},
   "outputs": [
    {
     "data": {
      "text/plain": [
       "Postal Code      object\n",
       "Borough          object\n",
       "Neighbourhood    object\n",
       "dtype: object"
      ]
     },
     "execution_count": 34,
     "metadata": {},
     "output_type": "execute_result"
    }
   ],
   "source": [
    "df.dtypes"
   ]
  },
  {
   "cell_type": "markdown",
   "metadata": {},
   "source": [
    "## Removing cells where Borough is not assigned"
   ]
  },
  {
   "cell_type": "code",
   "execution_count": 9,
   "metadata": {},
   "outputs": [],
   "source": [
    "df=df[df.Borough != \"Not assigned\"]"
   ]
  },
  {
   "cell_type": "code",
   "execution_count": 10,
   "metadata": {},
   "outputs": [
    {
     "data": {
      "text/plain": [
       "North York          24\n",
       "Downtown Toronto    19\n",
       "Scarborough         17\n",
       "Etobicoke           12\n",
       "Central Toronto      9\n",
       "West Toronto         6\n",
       "East Toronto         5\n",
       "East York            5\n",
       "York                 5\n",
       "Mississauga          1\n",
       "Name: Borough, dtype: int64"
      ]
     },
     "execution_count": 10,
     "metadata": {},
     "output_type": "execute_result"
    }
   ],
   "source": [
    "df[\"Borough\"].value_counts()"
   ]
  },
  {
   "cell_type": "code",
   "execution_count": 15,
   "metadata": {},
   "outputs": [],
   "source": [
    "df=df.reset_index()"
   ]
  },
  {
   "cell_type": "code",
   "execution_count": 16,
   "metadata": {},
   "outputs": [
    {
     "data": {
      "text/html": [
       "<div>\n",
       "<style scoped>\n",
       "    .dataframe tbody tr th:only-of-type {\n",
       "        vertical-align: middle;\n",
       "    }\n",
       "\n",
       "    .dataframe tbody tr th {\n",
       "        vertical-align: top;\n",
       "    }\n",
       "\n",
       "    .dataframe thead th {\n",
       "        text-align: right;\n",
       "    }\n",
       "</style>\n",
       "<table border=\"1\" class=\"dataframe\">\n",
       "  <thead>\n",
       "    <tr style=\"text-align: right;\">\n",
       "      <th></th>\n",
       "      <th>index</th>\n",
       "      <th>Postal Code</th>\n",
       "      <th>Borough</th>\n",
       "      <th>Neighbourhood</th>\n",
       "    </tr>\n",
       "  </thead>\n",
       "  <tbody>\n",
       "    <tr>\n",
       "      <th>0</th>\n",
       "      <td>2</td>\n",
       "      <td>M3A</td>\n",
       "      <td>North York</td>\n",
       "      <td>Parkwoods</td>\n",
       "    </tr>\n",
       "    <tr>\n",
       "      <th>1</th>\n",
       "      <td>3</td>\n",
       "      <td>M4A</td>\n",
       "      <td>North York</td>\n",
       "      <td>Victoria Village</td>\n",
       "    </tr>\n",
       "    <tr>\n",
       "      <th>2</th>\n",
       "      <td>4</td>\n",
       "      <td>M5A</td>\n",
       "      <td>Downtown Toronto</td>\n",
       "      <td>Regent Park, Harbourfront</td>\n",
       "    </tr>\n",
       "    <tr>\n",
       "      <th>3</th>\n",
       "      <td>5</td>\n",
       "      <td>M6A</td>\n",
       "      <td>North York</td>\n",
       "      <td>Lawrence Manor, Lawrence Heights</td>\n",
       "    </tr>\n",
       "    <tr>\n",
       "      <th>4</th>\n",
       "      <td>6</td>\n",
       "      <td>M7A</td>\n",
       "      <td>Downtown Toronto</td>\n",
       "      <td>Queen's Park, Ontario Provincial Government</td>\n",
       "    </tr>\n",
       "  </tbody>\n",
       "</table>\n",
       "</div>"
      ],
      "text/plain": [
       "   index Postal Code           Borough  \\\n",
       "0      2         M3A        North York   \n",
       "1      3         M4A        North York   \n",
       "2      4         M5A  Downtown Toronto   \n",
       "3      5         M6A        North York   \n",
       "4      6         M7A  Downtown Toronto   \n",
       "\n",
       "                                 Neighbourhood  \n",
       "0                                    Parkwoods  \n",
       "1                             Victoria Village  \n",
       "2                    Regent Park, Harbourfront  \n",
       "3             Lawrence Manor, Lawrence Heights  \n",
       "4  Queen's Park, Ontario Provincial Government  "
      ]
     },
     "execution_count": 16,
     "metadata": {},
     "output_type": "execute_result"
    }
   ],
   "source": [
    "df.head()"
   ]
  },
  {
   "cell_type": "code",
   "execution_count": 18,
   "metadata": {},
   "outputs": [],
   "source": [
    "df=df.drop([\"index\"],axis=1)"
   ]
  },
  {
   "cell_type": "code",
   "execution_count": 19,
   "metadata": {},
   "outputs": [
    {
     "data": {
      "text/html": [
       "<div>\n",
       "<style scoped>\n",
       "    .dataframe tbody tr th:only-of-type {\n",
       "        vertical-align: middle;\n",
       "    }\n",
       "\n",
       "    .dataframe tbody tr th {\n",
       "        vertical-align: top;\n",
       "    }\n",
       "\n",
       "    .dataframe thead th {\n",
       "        text-align: right;\n",
       "    }\n",
       "</style>\n",
       "<table border=\"1\" class=\"dataframe\">\n",
       "  <thead>\n",
       "    <tr style=\"text-align: right;\">\n",
       "      <th></th>\n",
       "      <th>Postal Code</th>\n",
       "      <th>Borough</th>\n",
       "      <th>Neighbourhood</th>\n",
       "    </tr>\n",
       "  </thead>\n",
       "  <tbody>\n",
       "    <tr>\n",
       "      <th>0</th>\n",
       "      <td>M3A</td>\n",
       "      <td>North York</td>\n",
       "      <td>Parkwoods</td>\n",
       "    </tr>\n",
       "    <tr>\n",
       "      <th>1</th>\n",
       "      <td>M4A</td>\n",
       "      <td>North York</td>\n",
       "      <td>Victoria Village</td>\n",
       "    </tr>\n",
       "    <tr>\n",
       "      <th>2</th>\n",
       "      <td>M5A</td>\n",
       "      <td>Downtown Toronto</td>\n",
       "      <td>Regent Park, Harbourfront</td>\n",
       "    </tr>\n",
       "    <tr>\n",
       "      <th>3</th>\n",
       "      <td>M6A</td>\n",
       "      <td>North York</td>\n",
       "      <td>Lawrence Manor, Lawrence Heights</td>\n",
       "    </tr>\n",
       "    <tr>\n",
       "      <th>4</th>\n",
       "      <td>M7A</td>\n",
       "      <td>Downtown Toronto</td>\n",
       "      <td>Queen's Park, Ontario Provincial Government</td>\n",
       "    </tr>\n",
       "  </tbody>\n",
       "</table>\n",
       "</div>"
      ],
      "text/plain": [
       "  Postal Code           Borough                                Neighbourhood\n",
       "0         M3A        North York                                    Parkwoods\n",
       "1         M4A        North York                             Victoria Village\n",
       "2         M5A  Downtown Toronto                    Regent Park, Harbourfront\n",
       "3         M6A        North York             Lawrence Manor, Lawrence Heights\n",
       "4         M7A  Downtown Toronto  Queen's Park, Ontario Provincial Government"
      ]
     },
     "execution_count": 19,
     "metadata": {},
     "output_type": "execute_result"
    }
   ],
   "source": [
    "df.head()"
   ]
  },
  {
   "cell_type": "markdown",
   "metadata": {},
   "source": [
    "## Checking for redundant values"
   ]
  },
  {
   "cell_type": "code",
   "execution_count": 25,
   "metadata": {},
   "outputs": [
    {
     "data": {
      "text/plain": [
       "M7A    1\n",
       "M2M    1\n",
       "M6H    1\n",
       "M6C    1\n",
       "M1N    1\n",
       "      ..\n",
       "M9N    1\n",
       "M4E    1\n",
       "M4G    1\n",
       "M6B    1\n",
       "M6J    1\n",
       "Name: Postal Code, Length: 103, dtype: int64"
      ]
     },
     "execution_count": 25,
     "metadata": {},
     "output_type": "execute_result"
    }
   ],
   "source": [
    "\n",
    "df[\"Postal Code\"].value_counts(ascending = False)\n"
   ]
  },
  {
   "cell_type": "code",
   "execution_count": 26,
   "metadata": {},
   "outputs": [
    {
     "data": {
      "text/html": [
       "<div>\n",
       "<style scoped>\n",
       "    .dataframe tbody tr th:only-of-type {\n",
       "        vertical-align: middle;\n",
       "    }\n",
       "\n",
       "    .dataframe tbody tr th {\n",
       "        vertical-align: top;\n",
       "    }\n",
       "\n",
       "    .dataframe thead th {\n",
       "        text-align: right;\n",
       "    }\n",
       "</style>\n",
       "<table border=\"1\" class=\"dataframe\">\n",
       "  <thead>\n",
       "    <tr style=\"text-align: right;\">\n",
       "      <th></th>\n",
       "      <th>Postal Code</th>\n",
       "      <th>Borough</th>\n",
       "      <th>Neighbourhood</th>\n",
       "    </tr>\n",
       "  </thead>\n",
       "  <tbody>\n",
       "    <tr>\n",
       "      <th>2</th>\n",
       "      <td>M5A</td>\n",
       "      <td>Downtown Toronto</td>\n",
       "      <td>Regent Park, Harbourfront</td>\n",
       "    </tr>\n",
       "  </tbody>\n",
       "</table>\n",
       "</div>"
      ],
      "text/plain": [
       "  Postal Code           Borough              Neighbourhood\n",
       "2         M5A  Downtown Toronto  Regent Park, Harbourfront"
      ]
     },
     "execution_count": 26,
     "metadata": {},
     "output_type": "execute_result"
    }
   ],
   "source": [
    "df[df[\"Postal Code\"]==\"M5A\"]"
   ]
  },
  {
   "cell_type": "markdown",
   "metadata": {},
   "source": [
    "## Dealing with Neighbourhood"
   ]
  },
  {
   "cell_type": "code",
   "execution_count": 38,
   "metadata": {},
   "outputs": [
    {
     "data": {
      "text/html": [
       "<div>\n",
       "<style scoped>\n",
       "    .dataframe tbody tr th:only-of-type {\n",
       "        vertical-align: middle;\n",
       "    }\n",
       "\n",
       "    .dataframe tbody tr th {\n",
       "        vertical-align: top;\n",
       "    }\n",
       "\n",
       "    .dataframe thead th {\n",
       "        text-align: right;\n",
       "    }\n",
       "</style>\n",
       "<table border=\"1\" class=\"dataframe\">\n",
       "  <thead>\n",
       "    <tr style=\"text-align: right;\">\n",
       "      <th></th>\n",
       "      <th>Postal Code</th>\n",
       "      <th>Borough</th>\n",
       "      <th>Neighbourhood</th>\n",
       "    </tr>\n",
       "  </thead>\n",
       "  <tbody>\n",
       "  </tbody>\n",
       "</table>\n",
       "</div>"
      ],
      "text/plain": [
       "Empty DataFrame\n",
       "Columns: [Postal Code, Borough, Neighbourhood]\n",
       "Index: []"
      ]
     },
     "execution_count": 38,
     "metadata": {},
     "output_type": "execute_result"
    }
   ],
   "source": [
    "df[df[\"Neighbourhood\"]==\"Not assigned\"]"
   ]
  },
  {
   "cell_type": "markdown",
   "metadata": {},
   "source": [
    "### Therefore there is no value with missing neighbourhood"
   ]
  },
  {
   "cell_type": "code",
   "execution_count": 39,
   "metadata": {},
   "outputs": [
    {
     "data": {
      "text/plain": [
       "(103, 3)"
      ]
     },
     "execution_count": 39,
     "metadata": {},
     "output_type": "execute_result"
    }
   ],
   "source": [
    "df.shape"
   ]
  },
  {
   "cell_type": "markdown",
   "metadata": {},
   "source": [
    "# PART 2"
   ]
  },
  {
   "cell_type": "markdown",
   "metadata": {},
   "source": [
    "# Inserting Lattitude and Logitudes"
   ]
  },
  {
   "cell_type": "code",
   "execution_count": 48,
   "metadata": {},
   "outputs": [],
   "source": [
    "gdf=pd.read_csv(r'C:\\Users\\Ravi\\Desktop\\projects\\Geospatial_Coordinates.csv')"
   ]
  },
  {
   "cell_type": "code",
   "execution_count": 49,
   "metadata": {},
   "outputs": [],
   "source": [
    "aa=pd.merge(df,gdf,on= [\"Postal Code\"],how = \"inner\")"
   ]
  },
  {
   "cell_type": "code",
   "execution_count": 51,
   "metadata": {},
   "outputs": [
    {
     "data": {
      "text/html": [
       "<div>\n",
       "<style scoped>\n",
       "    .dataframe tbody tr th:only-of-type {\n",
       "        vertical-align: middle;\n",
       "    }\n",
       "\n",
       "    .dataframe tbody tr th {\n",
       "        vertical-align: top;\n",
       "    }\n",
       "\n",
       "    .dataframe thead th {\n",
       "        text-align: right;\n",
       "    }\n",
       "</style>\n",
       "<table border=\"1\" class=\"dataframe\">\n",
       "  <thead>\n",
       "    <tr style=\"text-align: right;\">\n",
       "      <th></th>\n",
       "      <th>Postal Code</th>\n",
       "      <th>Borough</th>\n",
       "      <th>Neighbourhood</th>\n",
       "      <th>Latitude</th>\n",
       "      <th>Longitude</th>\n",
       "    </tr>\n",
       "  </thead>\n",
       "  <tbody>\n",
       "    <tr>\n",
       "      <th>0</th>\n",
       "      <td>M3A</td>\n",
       "      <td>North York</td>\n",
       "      <td>Parkwoods</td>\n",
       "      <td>43.753259</td>\n",
       "      <td>-79.329656</td>\n",
       "    </tr>\n",
       "    <tr>\n",
       "      <th>1</th>\n",
       "      <td>M4A</td>\n",
       "      <td>North York</td>\n",
       "      <td>Victoria Village</td>\n",
       "      <td>43.725882</td>\n",
       "      <td>-79.315572</td>\n",
       "    </tr>\n",
       "    <tr>\n",
       "      <th>2</th>\n",
       "      <td>M5A</td>\n",
       "      <td>Downtown Toronto</td>\n",
       "      <td>Regent Park, Harbourfront</td>\n",
       "      <td>43.654260</td>\n",
       "      <td>-79.360636</td>\n",
       "    </tr>\n",
       "    <tr>\n",
       "      <th>3</th>\n",
       "      <td>M6A</td>\n",
       "      <td>North York</td>\n",
       "      <td>Lawrence Manor, Lawrence Heights</td>\n",
       "      <td>43.718518</td>\n",
       "      <td>-79.464763</td>\n",
       "    </tr>\n",
       "    <tr>\n",
       "      <th>4</th>\n",
       "      <td>M7A</td>\n",
       "      <td>Downtown Toronto</td>\n",
       "      <td>Queen's Park, Ontario Provincial Government</td>\n",
       "      <td>43.662301</td>\n",
       "      <td>-79.389494</td>\n",
       "    </tr>\n",
       "    <tr>\n",
       "      <th>...</th>\n",
       "      <td>...</td>\n",
       "      <td>...</td>\n",
       "      <td>...</td>\n",
       "      <td>...</td>\n",
       "      <td>...</td>\n",
       "    </tr>\n",
       "    <tr>\n",
       "      <th>98</th>\n",
       "      <td>M8X</td>\n",
       "      <td>Etobicoke</td>\n",
       "      <td>The Kingsway, Montgomery Road, Old Mill North</td>\n",
       "      <td>43.653654</td>\n",
       "      <td>-79.506944</td>\n",
       "    </tr>\n",
       "    <tr>\n",
       "      <th>99</th>\n",
       "      <td>M4Y</td>\n",
       "      <td>Downtown Toronto</td>\n",
       "      <td>Church and Wellesley</td>\n",
       "      <td>43.665860</td>\n",
       "      <td>-79.383160</td>\n",
       "    </tr>\n",
       "    <tr>\n",
       "      <th>100</th>\n",
       "      <td>M7Y</td>\n",
       "      <td>East Toronto</td>\n",
       "      <td>Business reply mail Processing Centre, South C...</td>\n",
       "      <td>43.662744</td>\n",
       "      <td>-79.321558</td>\n",
       "    </tr>\n",
       "    <tr>\n",
       "      <th>101</th>\n",
       "      <td>M8Y</td>\n",
       "      <td>Etobicoke</td>\n",
       "      <td>Old Mill South, King's Mill Park, Sunnylea, Hu...</td>\n",
       "      <td>43.636258</td>\n",
       "      <td>-79.498509</td>\n",
       "    </tr>\n",
       "    <tr>\n",
       "      <th>102</th>\n",
       "      <td>M8Z</td>\n",
       "      <td>Etobicoke</td>\n",
       "      <td>Mimico NW, The Queensway West, South of Bloor,...</td>\n",
       "      <td>43.628841</td>\n",
       "      <td>-79.520999</td>\n",
       "    </tr>\n",
       "  </tbody>\n",
       "</table>\n",
       "<p>103 rows × 5 columns</p>\n",
       "</div>"
      ],
      "text/plain": [
       "    Postal Code           Borough  \\\n",
       "0           M3A        North York   \n",
       "1           M4A        North York   \n",
       "2           M5A  Downtown Toronto   \n",
       "3           M6A        North York   \n",
       "4           M7A  Downtown Toronto   \n",
       "..          ...               ...   \n",
       "98          M8X         Etobicoke   \n",
       "99          M4Y  Downtown Toronto   \n",
       "100         M7Y      East Toronto   \n",
       "101         M8Y         Etobicoke   \n",
       "102         M8Z         Etobicoke   \n",
       "\n",
       "                                         Neighbourhood   Latitude  Longitude  \n",
       "0                                            Parkwoods  43.753259 -79.329656  \n",
       "1                                     Victoria Village  43.725882 -79.315572  \n",
       "2                            Regent Park, Harbourfront  43.654260 -79.360636  \n",
       "3                     Lawrence Manor, Lawrence Heights  43.718518 -79.464763  \n",
       "4          Queen's Park, Ontario Provincial Government  43.662301 -79.389494  \n",
       "..                                                 ...        ...        ...  \n",
       "98       The Kingsway, Montgomery Road, Old Mill North  43.653654 -79.506944  \n",
       "99                                Church and Wellesley  43.665860 -79.383160  \n",
       "100  Business reply mail Processing Centre, South C...  43.662744 -79.321558  \n",
       "101  Old Mill South, King's Mill Park, Sunnylea, Hu...  43.636258 -79.498509  \n",
       "102  Mimico NW, The Queensway West, South of Bloor,...  43.628841 -79.520999  \n",
       "\n",
       "[103 rows x 5 columns]"
      ]
     },
     "execution_count": 51,
     "metadata": {},
     "output_type": "execute_result"
    }
   ],
   "source": [
    "aa"
   ]
  },
  {
   "cell_type": "code",
   "execution_count": 59,
   "metadata": {},
   "outputs": [],
   "source": [
    "address= \"Toronto,Canada\"\n",
    "from geopy.geocoders import Nominatim\n",
    "geolocator = Nominatim(user_agent=\"tor_exp\")\n",
    "location = geolocator.geocode(address)\n",
    "latitude = location.latitude\n",
    "longitude = location.longitude\n",
    "\n"
   ]
  },
  {
   "cell_type": "code",
   "execution_count": 58,
   "metadata": {},
   "outputs": [],
   "source": [
    "import folium\n"
   ]
  },
  {
   "cell_type": "code",
   "execution_count": 66,
   "metadata": {},
   "outputs": [
    {
     "data": {
      "text/html": [
       "<div style=\"width:100%;\"><div style=\"position:relative;width:100%;height:0;padding-bottom:60%;\"><span style=\"color:#565656\">Make this Notebook Trusted to load map: File -> Trust Notebook</span><iframe src=\"about:blank\" style=\"position:absolute;width:100%;height:100%;left:0;top:0;border:none !important;\" data-html=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 onload=\"this.contentDocument.open();this.contentDocument.write(atob(this.getAttribute('data-html')));this.contentDocument.close();\" allowfullscreen webkitallowfullscreen mozallowfullscreen></iframe></div></div>"
      ],
      "text/plain": [
       "<folium.folium.Map at 0x26cc7693c08>"
      ]
     },
     "execution_count": 66,
     "metadata": {},
     "output_type": "execute_result"
    }
   ],
   "source": [
    "map_tor= folium.Map(location=[latitude,longitude], zoom_start=10)\n",
    "for lat,lan,borough,neighbourhood in zip (aa[\"Latitude\"],aa[\"Longitude\"],aa[\"Borough\"],aa[\"Neighbourhood\"]):\n",
    "    label=\"{},{}\".format(neighbourhood,borough)\n",
    "    label=folium.Popup(label,parse_html=True)\n",
    "    folium.CircleMarker(\n",
    "    [lat,lan],\n",
    "    radius = 5,\n",
    "    popup=label,\n",
    "    color='black',\n",
    "    fill_color=\"#3185cc\",\n",
    "    fill_opacity=0.7,\n",
    "    parse_html = False).add_to(map_tor)\n",
    "map_tor\n"
   ]
  },
  {
   "cell_type": "code",
   "execution_count": null,
   "metadata": {},
   "outputs": [],
   "source": []
  }
 ],
 "metadata": {
  "kernelspec": {
   "display_name": "Python 3",
   "language": "python",
   "name": "python3"
  },
  "language_info": {
   "codemirror_mode": {
    "name": "ipython",
    "version": 3
   },
   "file_extension": ".py",
   "mimetype": "text/x-python",
   "name": "python",
   "nbconvert_exporter": "python",
   "pygments_lexer": "ipython3",
   "version": "3.7.4"
  }
 },
 "nbformat": 4,
 "nbformat_minor": 4
}

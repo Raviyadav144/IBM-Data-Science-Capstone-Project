{
 "cells": [
  {
   "cell_type": "markdown",
   "metadata": {},
   "source": [
    "Getting data from web about pincodes of the Bengaluru District"
   ]
  },
  {
   "cell_type": "code",
   "execution_count": 4,
   "metadata": {},
   "outputs": [],
   "source": [
    "import pandas as pd"
   ]
  },
  {
   "cell_type": "code",
   "execution_count": 5,
   "metadata": {},
   "outputs": [],
   "source": [
    "import pandas as pd\n",
    "df=pd.read_html(\"https://www.mapsofindia.com/pincode/india/karnataka/bangalore/\")"
   ]
  },
  {
   "cell_type": "code",
   "execution_count": 6,
   "metadata": {},
   "outputs": [
    {
     "data": {
      "text/plain": [
       "1"
      ]
     },
     "execution_count": 6,
     "metadata": {},
     "output_type": "execute_result"
    }
   ],
   "source": [
    "len(df)"
   ]
  },
  {
   "cell_type": "code",
   "execution_count": 7,
   "metadata": {},
   "outputs": [],
   "source": [
    "df=df[0]"
   ]
  },
  {
   "cell_type": "code",
   "execution_count": 8,
   "metadata": {},
   "outputs": [
    {
     "data": {
      "text/html": [
       "<div>\n",
       "<style scoped>\n",
       "    .dataframe tbody tr th:only-of-type {\n",
       "        vertical-align: middle;\n",
       "    }\n",
       "\n",
       "    .dataframe tbody tr th {\n",
       "        vertical-align: top;\n",
       "    }\n",
       "\n",
       "    .dataframe thead th {\n",
       "        text-align: right;\n",
       "    }\n",
       "</style>\n",
       "<table border=\"1\" class=\"dataframe\">\n",
       "  <thead>\n",
       "    <tr style=\"text-align: right;\">\n",
       "      <th></th>\n",
       "      <th>Pincode Details</th>\n",
       "      <th>Pincode Details.1</th>\n",
       "      <th>Pincode Details.2</th>\n",
       "      <th>Pincode Details.3</th>\n",
       "    </tr>\n",
       "  </thead>\n",
       "  <tbody>\n",
       "    <tr>\n",
       "      <th>0</th>\n",
       "      <td>Location</td>\n",
       "      <td>Pincode</td>\n",
       "      <td>State</td>\n",
       "      <td>District</td>\n",
       "    </tr>\n",
       "    <tr>\n",
       "      <th>1</th>\n",
       "      <td>A F station yelahanka</td>\n",
       "      <td>560063</td>\n",
       "      <td>Karnataka</td>\n",
       "      <td>Bangalore</td>\n",
       "    </tr>\n",
       "    <tr>\n",
       "      <th>2</th>\n",
       "      <td>Adugodi</td>\n",
       "      <td>560030</td>\n",
       "      <td>Karnataka</td>\n",
       "      <td>Bangalore</td>\n",
       "    </tr>\n",
       "    <tr>\n",
       "      <th>3</th>\n",
       "      <td>Agara</td>\n",
       "      <td>560034</td>\n",
       "      <td>Karnataka</td>\n",
       "      <td>Bangalore</td>\n",
       "    </tr>\n",
       "    <tr>\n",
       "      <th>4</th>\n",
       "      <td>Agram</td>\n",
       "      <td>560007</td>\n",
       "      <td>Karnataka</td>\n",
       "      <td>Bangalore</td>\n",
       "    </tr>\n",
       "  </tbody>\n",
       "</table>\n",
       "</div>"
      ],
      "text/plain": [
       "         Pincode Details Pincode Details.1 Pincode Details.2 Pincode Details.3\n",
       "0               Location           Pincode             State          District\n",
       "1  A F station yelahanka            560063         Karnataka         Bangalore\n",
       "2                Adugodi            560030         Karnataka         Bangalore\n",
       "3                  Agara            560034         Karnataka         Bangalore\n",
       "4                  Agram            560007         Karnataka         Bangalore"
      ]
     },
     "execution_count": 8,
     "metadata": {},
     "output_type": "execute_result"
    }
   ],
   "source": [
    "df.head()"
   ]
  },
  {
   "cell_type": "code",
   "execution_count": 9,
   "metadata": {},
   "outputs": [],
   "source": [
    "df = df.drop([0],axis=0)"
   ]
  },
  {
   "cell_type": "code",
   "execution_count": 10,
   "metadata": {},
   "outputs": [],
   "source": [
    "df=df.rename(columns={\"Pincode Details\":\"Location\",\"Pincode Details.1\":\"Pin Code\",\"Pincode Details.2\":\"State\",\"Pincode Details.3\":\"District\"})"
   ]
  },
  {
   "cell_type": "code",
   "execution_count": 11,
   "metadata": {},
   "outputs": [
    {
     "data": {
      "text/html": [
       "<div>\n",
       "<style scoped>\n",
       "    .dataframe tbody tr th:only-of-type {\n",
       "        vertical-align: middle;\n",
       "    }\n",
       "\n",
       "    .dataframe tbody tr th {\n",
       "        vertical-align: top;\n",
       "    }\n",
       "\n",
       "    .dataframe thead th {\n",
       "        text-align: right;\n",
       "    }\n",
       "</style>\n",
       "<table border=\"1\" class=\"dataframe\">\n",
       "  <thead>\n",
       "    <tr style=\"text-align: right;\">\n",
       "      <th></th>\n",
       "      <th>Location</th>\n",
       "      <th>Pin Code</th>\n",
       "      <th>State</th>\n",
       "      <th>District</th>\n",
       "    </tr>\n",
       "  </thead>\n",
       "  <tbody>\n",
       "    <tr>\n",
       "      <th>1</th>\n",
       "      <td>A F station yelahanka</td>\n",
       "      <td>560063</td>\n",
       "      <td>Karnataka</td>\n",
       "      <td>Bangalore</td>\n",
       "    </tr>\n",
       "    <tr>\n",
       "      <th>2</th>\n",
       "      <td>Adugodi</td>\n",
       "      <td>560030</td>\n",
       "      <td>Karnataka</td>\n",
       "      <td>Bangalore</td>\n",
       "    </tr>\n",
       "    <tr>\n",
       "      <th>3</th>\n",
       "      <td>Agara</td>\n",
       "      <td>560034</td>\n",
       "      <td>Karnataka</td>\n",
       "      <td>Bangalore</td>\n",
       "    </tr>\n",
       "    <tr>\n",
       "      <th>4</th>\n",
       "      <td>Agram</td>\n",
       "      <td>560007</td>\n",
       "      <td>Karnataka</td>\n",
       "      <td>Bangalore</td>\n",
       "    </tr>\n",
       "    <tr>\n",
       "      <th>5</th>\n",
       "      <td>Air Force hospital</td>\n",
       "      <td>560007</td>\n",
       "      <td>Karnataka</td>\n",
       "      <td>Bangalore</td>\n",
       "    </tr>\n",
       "    <tr>\n",
       "      <th>...</th>\n",
       "      <td>...</td>\n",
       "      <td>...</td>\n",
       "      <td>...</td>\n",
       "      <td>...</td>\n",
       "    </tr>\n",
       "    <tr>\n",
       "      <th>290</th>\n",
       "      <td>Yelahanka</td>\n",
       "      <td>560064</td>\n",
       "      <td>Karnataka</td>\n",
       "      <td>Bangalore</td>\n",
       "    </tr>\n",
       "    <tr>\n",
       "      <th>291</th>\n",
       "      <td>Yelahanka Satellite town</td>\n",
       "      <td>560064</td>\n",
       "      <td>Karnataka</td>\n",
       "      <td>Bangalore</td>\n",
       "    </tr>\n",
       "    <tr>\n",
       "      <th>292</th>\n",
       "      <td>Yemalur</td>\n",
       "      <td>560037</td>\n",
       "      <td>Karnataka</td>\n",
       "      <td>Bangalore</td>\n",
       "    </tr>\n",
       "    <tr>\n",
       "      <th>293</th>\n",
       "      <td>Yeshwanthpur Bazar</td>\n",
       "      <td>560022</td>\n",
       "      <td>Karnataka</td>\n",
       "      <td>Bangalore</td>\n",
       "    </tr>\n",
       "    <tr>\n",
       "      <th>294</th>\n",
       "      <td>Yeswanthpura</td>\n",
       "      <td>560022</td>\n",
       "      <td>Karnataka</td>\n",
       "      <td>Bangalore</td>\n",
       "    </tr>\n",
       "  </tbody>\n",
       "</table>\n",
       "<p>294 rows × 4 columns</p>\n",
       "</div>"
      ],
      "text/plain": [
       "                     Location Pin Code      State   District\n",
       "1       A F station yelahanka   560063  Karnataka  Bangalore\n",
       "2                     Adugodi   560030  Karnataka  Bangalore\n",
       "3                       Agara   560034  Karnataka  Bangalore\n",
       "4                       Agram   560007  Karnataka  Bangalore\n",
       "5          Air Force hospital   560007  Karnataka  Bangalore\n",
       "..                        ...      ...        ...        ...\n",
       "290                 Yelahanka   560064  Karnataka  Bangalore\n",
       "291  Yelahanka Satellite town   560064  Karnataka  Bangalore\n",
       "292                   Yemalur   560037  Karnataka  Bangalore\n",
       "293        Yeshwanthpur Bazar   560022  Karnataka  Bangalore\n",
       "294              Yeswanthpura   560022  Karnataka  Bangalore\n",
       "\n",
       "[294 rows x 4 columns]"
      ]
     },
     "execution_count": 11,
     "metadata": {},
     "output_type": "execute_result"
    }
   ],
   "source": [
    "df"
   ]
  },
  {
   "cell_type": "markdown",
   "metadata": {},
   "source": [
    "### Getting the latitudes and longitudes"
   ]
  },
  {
   "cell_type": "code",
   "execution_count": 29,
   "metadata": {},
   "outputs": [],
   "source": [
    "from geopy.geocoders import Nominatim"
   ]
  },
  {
   "cell_type": "code",
   "execution_count": 13,
   "metadata": {},
   "outputs": [],
   "source": [
    "la=list()\n",
    "lt=list()\n",
    "poc=list()"
   ]
  },
  {
   "cell_type": "code",
   "execution_count": 14,
   "metadata": {},
   "outputs": [
    {
     "data": {
      "text/html": [
       "<div>\n",
       "<style scoped>\n",
       "    .dataframe tbody tr th:only-of-type {\n",
       "        vertical-align: middle;\n",
       "    }\n",
       "\n",
       "    .dataframe tbody tr th {\n",
       "        vertical-align: top;\n",
       "    }\n",
       "\n",
       "    .dataframe thead th {\n",
       "        text-align: right;\n",
       "    }\n",
       "</style>\n",
       "<table border=\"1\" class=\"dataframe\">\n",
       "  <thead>\n",
       "    <tr style=\"text-align: right;\">\n",
       "      <th></th>\n",
       "      <th>Location</th>\n",
       "      <th>Pin Code</th>\n",
       "      <th>State</th>\n",
       "      <th>District</th>\n",
       "    </tr>\n",
       "  </thead>\n",
       "  <tbody>\n",
       "    <tr>\n",
       "      <th>1</th>\n",
       "      <td>A F station yelahanka</td>\n",
       "      <td>560063</td>\n",
       "      <td>Karnataka</td>\n",
       "      <td>Bangalore</td>\n",
       "    </tr>\n",
       "    <tr>\n",
       "      <th>2</th>\n",
       "      <td>Adugodi</td>\n",
       "      <td>560030</td>\n",
       "      <td>Karnataka</td>\n",
       "      <td>Bangalore</td>\n",
       "    </tr>\n",
       "    <tr>\n",
       "      <th>3</th>\n",
       "      <td>Agara</td>\n",
       "      <td>560034</td>\n",
       "      <td>Karnataka</td>\n",
       "      <td>Bangalore</td>\n",
       "    </tr>\n",
       "    <tr>\n",
       "      <th>4</th>\n",
       "      <td>Agram</td>\n",
       "      <td>560007</td>\n",
       "      <td>Karnataka</td>\n",
       "      <td>Bangalore</td>\n",
       "    </tr>\n",
       "    <tr>\n",
       "      <th>5</th>\n",
       "      <td>Air Force hospital</td>\n",
       "      <td>560007</td>\n",
       "      <td>Karnataka</td>\n",
       "      <td>Bangalore</td>\n",
       "    </tr>\n",
       "    <tr>\n",
       "      <th>...</th>\n",
       "      <td>...</td>\n",
       "      <td>...</td>\n",
       "      <td>...</td>\n",
       "      <td>...</td>\n",
       "    </tr>\n",
       "    <tr>\n",
       "      <th>290</th>\n",
       "      <td>Yelahanka</td>\n",
       "      <td>560064</td>\n",
       "      <td>Karnataka</td>\n",
       "      <td>Bangalore</td>\n",
       "    </tr>\n",
       "    <tr>\n",
       "      <th>291</th>\n",
       "      <td>Yelahanka Satellite town</td>\n",
       "      <td>560064</td>\n",
       "      <td>Karnataka</td>\n",
       "      <td>Bangalore</td>\n",
       "    </tr>\n",
       "    <tr>\n",
       "      <th>292</th>\n",
       "      <td>Yemalur</td>\n",
       "      <td>560037</td>\n",
       "      <td>Karnataka</td>\n",
       "      <td>Bangalore</td>\n",
       "    </tr>\n",
       "    <tr>\n",
       "      <th>293</th>\n",
       "      <td>Yeshwanthpur Bazar</td>\n",
       "      <td>560022</td>\n",
       "      <td>Karnataka</td>\n",
       "      <td>Bangalore</td>\n",
       "    </tr>\n",
       "    <tr>\n",
       "      <th>294</th>\n",
       "      <td>Yeswanthpura</td>\n",
       "      <td>560022</td>\n",
       "      <td>Karnataka</td>\n",
       "      <td>Bangalore</td>\n",
       "    </tr>\n",
       "  </tbody>\n",
       "</table>\n",
       "<p>294 rows × 4 columns</p>\n",
       "</div>"
      ],
      "text/plain": [
       "                     Location Pin Code      State   District\n",
       "1       A F station yelahanka   560063  Karnataka  Bangalore\n",
       "2                     Adugodi   560030  Karnataka  Bangalore\n",
       "3                       Agara   560034  Karnataka  Bangalore\n",
       "4                       Agram   560007  Karnataka  Bangalore\n",
       "5          Air Force hospital   560007  Karnataka  Bangalore\n",
       "..                        ...      ...        ...        ...\n",
       "290                 Yelahanka   560064  Karnataka  Bangalore\n",
       "291  Yelahanka Satellite town   560064  Karnataka  Bangalore\n",
       "292                   Yemalur   560037  Karnataka  Bangalore\n",
       "293        Yeshwanthpur Bazar   560022  Karnataka  Bangalore\n",
       "294              Yeswanthpura   560022  Karnataka  Bangalore\n",
       "\n",
       "[294 rows x 4 columns]"
      ]
     },
     "execution_count": 14,
     "metadata": {},
     "output_type": "execute_result"
    }
   ],
   "source": [
    "df"
   ]
  },
  {
   "cell_type": "code",
   "execution_count": 32,
   "metadata": {},
   "outputs": [],
   "source": [
    "for index , rows in df.iterrows():\n",
    "    address = rows[\"Location\"] + \",\" + \"Karnataka\"\n",
    "    geolocator = Nominatim(user_agent = \"ben_exp\")\n",
    "    location = geolocator.geocode(address)\n",
    "    try:\n",
    "        longitude = location.longitude\n",
    "        latitude = location.latitude\n",
    "    except:\n",
    "        longitude = \"Not Found\"\n",
    "        latitude = \"Not Found\"\n",
    "    poc.append(rows[\"Pin Code\"])\n",
    "    la.append(latitude)\n",
    "    lt.append(longitude) \n",
    "    "
   ]
  },
  {
   "cell_type": "code",
   "execution_count": null,
   "metadata": {},
   "outputs": [],
   "source": []
  },
  {
   "cell_type": "code",
   "execution_count": null,
   "metadata": {},
   "outputs": [],
   "source": [
    "len(poc)"
   ]
  },
  {
   "cell_type": "code",
   "execution_count": null,
   "metadata": {},
   "outputs": [],
   "source": [
    "df.shape"
   ]
  },
  {
   "cell_type": "code",
   "execution_count": null,
   "metadata": {
    "scrolled": true
   },
   "outputs": [],
   "source": [
    "df.insert(4,\"Pin\",poc)\n",
    "df.insert(5,\"Latitude\",la)\n",
    "df.insert(6,\"Longitude\",lt)"
   ]
  },
  {
   "cell_type": "code",
   "execution_count": null,
   "metadata": {},
   "outputs": [],
   "source": [
    "df=pd.read_csv(r\"C:\\Users\\Ravi\\Desktop\\projects\\benggal)"
   ]
  },
  {
   "cell_type": "code",
   "execution_count": null,
   "metadata": {},
   "outputs": [],
   "source": [
    "df.head()"
   ]
  },
  {
   "cell_type": "code",
   "execution_count": null,
   "metadata": {},
   "outputs": [],
   "source": []
  },
  {
   "cell_type": "code",
   "execution_count": null,
   "metadata": {},
   "outputs": [],
   "source": [
    "df[df[\"Latitude\"]==\"Not Found\"]\n"
   ]
  },
  {
   "cell_type": "markdown",
   "metadata": {},
   "source": [
    "### Dropping the rows without latitude and longitude"
   ]
  },
  {
   "cell_type": "code",
   "execution_count": null,
   "metadata": {},
   "outputs": [],
   "source": [
    "df.drop(df[df[\"Latitude\"]==\"Not Found\"].index,inplace=True)"
   ]
  },
  {
   "cell_type": "code",
   "execution_count": null,
   "metadata": {},
   "outputs": [],
   "source": [
    "df.reset_index(inplace=True)"
   ]
  },
  {
   "cell_type": "code",
   "execution_count": null,
   "metadata": {},
   "outputs": [],
   "source": [
    "df.drop(\"index\",inplace=True,axis=1)"
   ]
  },
  {
   "cell_type": "code",
   "execution_count": null,
   "metadata": {},
   "outputs": [],
   "source": [
    "df[\"Pin Code\"].unique().size"
   ]
  },
  {
   "cell_type": "code",
   "execution_count": 40,
   "metadata": {},
   "outputs": [],
   "source": [
    "df.drop(\"Pin\",axis=1,inplace=True)"
   ]
  },
  {
   "cell_type": "code",
   "execution_count": 33,
   "metadata": {},
   "outputs": [],
   "source": [
    "address= \"Bengaluru , Karnataka\"\n",
    "location = geolocator.geocode(address)\n",
    "Latitude = location.latitude\n",
    "Longitude= location.longitude"
   ]
  },
  {
   "cell_type": "code",
   "execution_count": 42,
   "metadata": {},
   "outputs": [
    {
     "data": {
      "text/html": [
       "<div style=\"width:100%;\"><div style=\"position:relative;width:100%;height:0;padding-bottom:60%;\"><span style=\"color:#565656\">Make this Notebook Trusted to load map: File -> Trust Notebook</span><iframe src=\"about:blank\" style=\"position:absolute;width:100%;height:100%;left:0;top:0;border:none !important;\" data-html=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 onload=\"this.contentDocument.open();this.contentDocument.write(atob(this.getAttribute('data-html')));this.contentDocument.close();\" allowfullscreen webkitallowfullscreen mozallowfullscreen></iframe></div></div>"
      ],
      "text/plain": [
       "<folium.folium.Map at 0x272e12aa508>"
      ]
     },
     "execution_count": 42,
     "metadata": {},
     "output_type": "execute_result"
    }
   ],
   "source": [
    "import folium\n",
    "map_ben= folium.Map(location=[Latitude,Longitude],zoom_start=10)\n",
    "for lat,lan,loc,pin in zip(df[\"Latitude\"],df[\"Longitude\"],df[\"Location\"],df[\"Pin Code\"]):\n",
    "    label=\"{},{}\".format(loc,pin)\n",
    "    label=folium.Popup(label,parse_html=True)\n",
    "    folium.CircleMarker(\n",
    "    [lat,lan],\n",
    "    radius=5,\n",
    "    popup=label,\n",
    "    color='black',\n",
    "    fill_color=\"#3185cc\",\n",
    "    fill_opactiy=0.7,\n",
    "    parse_html=False).add_to(map_ben)\n",
    "map_ben\n"
   ]
  },
  {
   "cell_type": "markdown",
   "metadata": {},
   "source": [
    "## Using Foursquare API to get the neighbourhood data"
   ]
  },
  {
   "cell_type": "code",
   "execution_count": 1,
   "metadata": {},
   "outputs": [],
   "source": [
    "CLIENT_ID = \"WC1SOZPQQEG3VFZF0XTG34EBIZFV0KU4IBOQMPBJIHXHMTWS\"\n",
    "CLIENT_SECRET = \"EPDWGH4OCFDJDL3QDXJXO3VOLU5OJKNQADNPLPQNZRIWDCG5\"\n",
    "VERSION = \"20200816\""
   ]
  },
  {
   "cell_type": "code",
   "execution_count": null,
   "metadata": {},
   "outputs": [],
   "source": [
    "LIMIT = 100\n",
    "RADIUS = 700\n",
    "url = 'https://api.foursquare.com/v2/venues/explore?&client_id={}&client_secret={}&v={}&ll={},{}&radius={}&limit={}'.format(\n",
    "    CLIENT_ID, \n",
    "    CLIENT_SECRET, \n",
    "    VERSION, \n",
    "    Latitude, \n",
    "    Longitude, \n",
    "    RADIUS, \n",
    "    LIMIT)\n",
    "url "
   ]
  },
  {
   "cell_type": "markdown",
   "metadata": {},
   "source": [
    "### Importing the required libraries for handling the data received from the API"
   ]
  },
  {
   "cell_type": "code",
   "execution_count": 3,
   "metadata": {},
   "outputs": [],
   "source": [
    "import json\n",
    "import requests \n",
    "from pandas import json_normalize\n",
    "results = requests.get(url).json()\n",
    "results"
   ]
  },
  {
   "cell_type": "markdown",
   "metadata": {},
   "source": [
    "### Defining a function to get category type of each venue"
   ]
  },
  {
   "cell_type": "code",
   "execution_count": 46,
   "metadata": {},
   "outputs": [],
   "source": [
    "def get_category_type (row):\n",
    "    try:\n",
    "        categories_list = row['categories']\n",
    "    except:\n",
    "        categories_list = row[\"venue.categories\"]\n",
    "    if len(categories_list) == 0:\n",
    "        return None\n",
    "    else:\n",
    "        return categories_list[0]['name']"
   ]
  },
  {
   "cell_type": "markdown",
   "metadata": {},
   "source": [
    "### Processing the received information and extracting the required fields"
   ]
  },
  {
   "cell_type": "code",
   "execution_count": 47,
   "metadata": {},
   "outputs": [
    {
     "data": {
      "text/html": [
       "<div>\n",
       "<style scoped>\n",
       "    .dataframe tbody tr th:only-of-type {\n",
       "        vertical-align: middle;\n",
       "    }\n",
       "\n",
       "    .dataframe tbody tr th {\n",
       "        vertical-align: top;\n",
       "    }\n",
       "\n",
       "    .dataframe thead th {\n",
       "        text-align: right;\n",
       "    }\n",
       "</style>\n",
       "<table border=\"1\" class=\"dataframe\">\n",
       "  <thead>\n",
       "    <tr style=\"text-align: right;\">\n",
       "      <th></th>\n",
       "      <th>name</th>\n",
       "      <th>categories</th>\n",
       "      <th>lat</th>\n",
       "      <th>lng</th>\n",
       "    </tr>\n",
       "  </thead>\n",
       "  <tbody>\n",
       "    <tr>\n",
       "      <th>0</th>\n",
       "      <td>Cubbon Park</td>\n",
       "      <td>Park</td>\n",
       "      <td>12.977042</td>\n",
       "      <td>77.595277</td>\n",
       "    </tr>\n",
       "    <tr>\n",
       "      <th>1</th>\n",
       "      <td>Vidhana Soudha</td>\n",
       "      <td>Capitol Building</td>\n",
       "      <td>12.979027</td>\n",
       "      <td>77.591881</td>\n",
       "    </tr>\n",
       "    <tr>\n",
       "      <th>2</th>\n",
       "      <td>Chevron Hotel</td>\n",
       "      <td>Hotel</td>\n",
       "      <td>12.983619</td>\n",
       "      <td>77.594379</td>\n",
       "    </tr>\n",
       "    <tr>\n",
       "      <th>3</th>\n",
       "      <td>Oriental Spice</td>\n",
       "      <td>Chinese Restaurant</td>\n",
       "      <td>12.983893</td>\n",
       "      <td>77.593591</td>\n",
       "    </tr>\n",
       "    <tr>\n",
       "      <th>4</th>\n",
       "      <td>Atria Hotel</td>\n",
       "      <td>Hotel</td>\n",
       "      <td>12.980227</td>\n",
       "      <td>77.586067</td>\n",
       "    </tr>\n",
       "  </tbody>\n",
       "</table>\n",
       "</div>"
      ],
      "text/plain": [
       "             name          categories        lat        lng\n",
       "0     Cubbon Park                Park  12.977042  77.595277\n",
       "1  Vidhana Soudha    Capitol Building  12.979027  77.591881\n",
       "2   Chevron Hotel               Hotel  12.983619  77.594379\n",
       "3  Oriental Spice  Chinese Restaurant  12.983893  77.593591\n",
       "4     Atria Hotel               Hotel  12.980227  77.586067"
      ]
     },
     "execution_count": 47,
     "metadata": {},
     "output_type": "execute_result"
    }
   ],
   "source": [
    "venues = results['response']['groups'][0]['items']\n",
    "nearby_venues = json_normalize(venues)  # flatten json\n",
    "# Now filtering coloumns\n",
    "filtered_columns= ['venue.name', 'venue.categories','venue.location.lat','venue.location.lng']\n",
    "nearby_venues= nearby_venues.loc[:, filtered_columns]\n",
    "\n",
    "#filtering the category of each row\n",
    "nearby_venues[\"venue.categories\"]=nearby_venues.apply(get_category_type,axis= 1)\n",
    "#clean columns\n",
    "nearby_venues.columns= [col.split(\".\")[-1] for col in nearby_venues.columns]\n",
    "nearby_venues.head()"
   ]
  },
  {
   "cell_type": "code",
   "execution_count": 48,
   "metadata": {},
   "outputs": [
    {
     "data": {
      "text/plain": [
       "(11, 4)"
      ]
     },
     "execution_count": 48,
     "metadata": {},
     "output_type": "execute_result"
    }
   ],
   "source": [
    "nearby_venues.shape"
   ]
  },
  {
   "cell_type": "markdown",
   "metadata": {},
   "source": [
    "# Part 1 - Analysis of suitable location for joint family"
   ]
  },
  {
   "cell_type": "markdown",
   "metadata": {},
   "source": [
    "### Defining a function to get the nearyby schools , parks , other dance schools etc for kids"
   ]
  },
  {
   "cell_type": "code",
   "execution_count": 5,
   "metadata": {},
   "outputs": [],
   "source": [
    "def getNearbyVenues(names,latitudes, longitudes , radius = 500,limit=50):\n",
    "    venues_list=[]\n",
    "    for name , lat, lng in zip (names , latitudes , longitudes):\n",
    "        #creating the url request\n",
    "        url = 'https://api.foursquare.com/v2/venues/search?&client_id={}&client_secret={}&v={}&ll={},{}&radius={}&limit={}&categoryId=4bf58dd8d48988d13b941735,4bf58dd8d48988d196941735,4bf58dd8d48988d15a941735'.format(\n",
    "    CLIENT_ID, \n",
    "    CLIENT_SECRET, \n",
    "    VERSION, \n",
    "    lat, \n",
    "    lng, \n",
    "    radius, \n",
    "    limit)\n",
    "        \n",
    "        #making the request\n",
    "        results = requests.get(url).json()['response']\n",
    "        #getting required informations only\n",
    "        \n",
    "        for i in range (len(results[\"venues\"])):\n",
    "            venues_list.append([name,lat,lng,\n",
    "                        results['venues'][i]['name'],\n",
    "                        results[\"venues\"][i][\"location\"][\"lat\"],\n",
    "                        results[\"venues\"][i]['categories'][0][\"name\"]])\n",
    "    nearby_venues=pd.DataFrame(venues_list,columns=['location','lat',\"long\",\"Venue\",\"Venue Lat\",\"Venue Cat\"])\n",
    "            \n",
    "    return (nearby_venues)\n",
    "    "
   ]
  },
  {
   "cell_type": "code",
   "execution_count": 6,
   "metadata": {},
   "outputs": [],
   "source": [
    "df=pd.read_csv(r\"C:\\Users\\Ravi\\Desktop\\projects\\bngl.csv\")"
   ]
  },
  {
   "cell_type": "code",
   "execution_count": 7,
   "metadata": {},
   "outputs": [
    {
     "data": {
      "text/html": [
       "<div>\n",
       "<style scoped>\n",
       "    .dataframe tbody tr th:only-of-type {\n",
       "        vertical-align: middle;\n",
       "    }\n",
       "\n",
       "    .dataframe tbody tr th {\n",
       "        vertical-align: top;\n",
       "    }\n",
       "\n",
       "    .dataframe thead th {\n",
       "        text-align: right;\n",
       "    }\n",
       "</style>\n",
       "<table border=\"1\" class=\"dataframe\">\n",
       "  <thead>\n",
       "    <tr style=\"text-align: right;\">\n",
       "      <th></th>\n",
       "      <th>Location</th>\n",
       "      <th>Pin Code</th>\n",
       "      <th>State</th>\n",
       "      <th>District</th>\n",
       "      <th>Latitude</th>\n",
       "      <th>Longitude</th>\n",
       "    </tr>\n",
       "  </thead>\n",
       "  <tbody>\n",
       "    <tr>\n",
       "      <th>0</th>\n",
       "      <td>Adugodi</td>\n",
       "      <td>560030</td>\n",
       "      <td>Karnataka</td>\n",
       "      <td>Bangalore</td>\n",
       "      <td>12.942847</td>\n",
       "      <td>77.610416</td>\n",
       "    </tr>\n",
       "    <tr>\n",
       "      <th>1</th>\n",
       "      <td>Agara</td>\n",
       "      <td>560034</td>\n",
       "      <td>Karnataka</td>\n",
       "      <td>Bangalore</td>\n",
       "      <td>13.014409</td>\n",
       "      <td>78.048901</td>\n",
       "    </tr>\n",
       "    <tr>\n",
       "      <th>2</th>\n",
       "      <td>Amruthahalli</td>\n",
       "      <td>560092</td>\n",
       "      <td>Karnataka</td>\n",
       "      <td>Bangalore</td>\n",
       "      <td>13.066513</td>\n",
       "      <td>77.596624</td>\n",
       "    </tr>\n",
       "    <tr>\n",
       "      <th>3</th>\n",
       "      <td>Anandnagar</td>\n",
       "      <td>560024</td>\n",
       "      <td>Karnataka</td>\n",
       "      <td>Bangalore</td>\n",
       "      <td>13.033377</td>\n",
       "      <td>77.589523</td>\n",
       "    </tr>\n",
       "    <tr>\n",
       "      <th>4</th>\n",
       "      <td>Anekal</td>\n",
       "      <td>562106</td>\n",
       "      <td>Karnataka</td>\n",
       "      <td>Bangalore</td>\n",
       "      <td>12.799122</td>\n",
       "      <td>77.680604</td>\n",
       "    </tr>\n",
       "  </tbody>\n",
       "</table>\n",
       "</div>"
      ],
      "text/plain": [
       "       Location  Pin Code      State   District   Latitude  Longitude\n",
       "0       Adugodi    560030  Karnataka  Bangalore  12.942847  77.610416\n",
       "1         Agara    560034  Karnataka  Bangalore  13.014409  78.048901\n",
       "2  Amruthahalli    560092  Karnataka  Bangalore  13.066513  77.596624\n",
       "3    Anandnagar    560024  Karnataka  Bangalore  13.033377  77.589523\n",
       "4        Anekal    562106  Karnataka  Bangalore  12.799122  77.680604"
      ]
     },
     "execution_count": 7,
     "metadata": {},
     "output_type": "execute_result"
    }
   ],
   "source": [
    "df.head()"
   ]
  },
  {
   "cell_type": "code",
   "execution_count": 8,
   "metadata": {},
   "outputs": [],
   "source": [
    "bnglu_venues= getNearbyVenues(names = df[\"Location\"],\n",
    "                             latitudes= df[\"Latitude\"],\n",
    "                             longitudes = df[\"Longitude\"])"
   ]
  },
  {
   "cell_type": "code",
   "execution_count": 10,
   "metadata": {},
   "outputs": [],
   "source": [
    "bnglu_venues.to_csv(r\"C:\\Users\\Ravi\\Desktop\\projects\\fam_bngl.csv\")"
   ]
  },
  {
   "cell_type": "code",
   "execution_count": 11,
   "metadata": {},
   "outputs": [
    {
     "data": {
      "text/html": [
       "<div>\n",
       "<style scoped>\n",
       "    .dataframe tbody tr th:only-of-type {\n",
       "        vertical-align: middle;\n",
       "    }\n",
       "\n",
       "    .dataframe tbody tr th {\n",
       "        vertical-align: top;\n",
       "    }\n",
       "\n",
       "    .dataframe thead th {\n",
       "        text-align: right;\n",
       "    }\n",
       "</style>\n",
       "<table border=\"1\" class=\"dataframe\">\n",
       "  <thead>\n",
       "    <tr style=\"text-align: right;\">\n",
       "      <th></th>\n",
       "      <th>location</th>\n",
       "      <th>lat</th>\n",
       "      <th>long</th>\n",
       "      <th>Venue</th>\n",
       "      <th>Venue Lat</th>\n",
       "      <th>Venue Cat</th>\n",
       "    </tr>\n",
       "  </thead>\n",
       "  <tbody>\n",
       "    <tr>\n",
       "      <th>0</th>\n",
       "      <td>Amruthahalli</td>\n",
       "      <td>13.066513</td>\n",
       "      <td>77.596624</td>\n",
       "      <td>Amrutha Hospital, Amruthahalli</td>\n",
       "      <td>13.066810</td>\n",
       "      <td>Hospital</td>\n",
       "    </tr>\n",
       "    <tr>\n",
       "      <th>1</th>\n",
       "      <td>Anandnagar</td>\n",
       "      <td>13.033377</td>\n",
       "      <td>77.589523</td>\n",
       "      <td>Baptist Hospital</td>\n",
       "      <td>13.035633</td>\n",
       "      <td>Hospital</td>\n",
       "    </tr>\n",
       "    <tr>\n",
       "      <th>2</th>\n",
       "      <td>Anandnagar</td>\n",
       "      <td>13.033377</td>\n",
       "      <td>77.589523</td>\n",
       "      <td>Orthopaedic Department Baptist Hospital</td>\n",
       "      <td>13.035852</td>\n",
       "      <td>Hospital</td>\n",
       "    </tr>\n",
       "    <tr>\n",
       "      <th>3</th>\n",
       "      <td>Anandnagar</td>\n",
       "      <td>13.033377</td>\n",
       "      <td>77.589523</td>\n",
       "      <td>Otorhinolaryngology department BBH</td>\n",
       "      <td>13.036388</td>\n",
       "      <td>Hospital</td>\n",
       "    </tr>\n",
       "    <tr>\n",
       "      <th>4</th>\n",
       "      <td>Anandnagar</td>\n",
       "      <td>13.033377</td>\n",
       "      <td>77.589523</td>\n",
       "      <td>Surau (Musolla) Baptist Hospital</td>\n",
       "      <td>13.035556</td>\n",
       "      <td>Hospital</td>\n",
       "    </tr>\n",
       "  </tbody>\n",
       "</table>\n",
       "</div>"
      ],
      "text/plain": [
       "       location        lat       long  \\\n",
       "0  Amruthahalli  13.066513  77.596624   \n",
       "1    Anandnagar  13.033377  77.589523   \n",
       "2    Anandnagar  13.033377  77.589523   \n",
       "3    Anandnagar  13.033377  77.589523   \n",
       "4    Anandnagar  13.033377  77.589523   \n",
       "\n",
       "                                     Venue  Venue Lat Venue Cat  \n",
       "0           Amrutha Hospital, Amruthahalli  13.066810  Hospital  \n",
       "1                         Baptist Hospital  13.035633  Hospital  \n",
       "2  Orthopaedic Department Baptist Hospital  13.035852  Hospital  \n",
       "3       Otorhinolaryngology department BBH  13.036388  Hospital  \n",
       "4         Surau (Musolla) Baptist Hospital  13.035556  Hospital  "
      ]
     },
     "execution_count": 11,
     "metadata": {},
     "output_type": "execute_result"
    }
   ],
   "source": [
    "bnglu_venues"
   ]
  },
  {
   "cell_type": "code",
   "execution_count": 12,
   "metadata": {},
   "outputs": [
    {
     "data": {
      "text/html": [
       "<div>\n",
       "<style scoped>\n",
       "    .dataframe tbody tr th:only-of-type {\n",
       "        vertical-align: middle;\n",
       "    }\n",
       "\n",
       "    .dataframe tbody tr th {\n",
       "        vertical-align: top;\n",
       "    }\n",
       "\n",
       "    .dataframe thead th {\n",
       "        text-align: right;\n",
       "    }\n",
       "</style>\n",
       "<table border=\"1\" class=\"dataframe\">\n",
       "  <thead>\n",
       "    <tr style=\"text-align: right;\">\n",
       "      <th></th>\n",
       "      <th>location</th>\n",
       "      <th>lat</th>\n",
       "      <th>long</th>\n",
       "      <th>Venue</th>\n",
       "      <th>Venue Lat</th>\n",
       "      <th>Venue Cat</th>\n",
       "    </tr>\n",
       "  </thead>\n",
       "  <tbody>\n",
       "    <tr>\n",
       "      <th>0</th>\n",
       "      <td>Amruthahalli</td>\n",
       "      <td>13.066513</td>\n",
       "      <td>77.596624</td>\n",
       "      <td>Amrutha Hospital, Amruthahalli</td>\n",
       "      <td>13.066810</td>\n",
       "      <td>Hospital</td>\n",
       "    </tr>\n",
       "    <tr>\n",
       "      <th>1</th>\n",
       "      <td>Anandnagar</td>\n",
       "      <td>13.033377</td>\n",
       "      <td>77.589523</td>\n",
       "      <td>Baptist Hospital</td>\n",
       "      <td>13.035633</td>\n",
       "      <td>Hospital</td>\n",
       "    </tr>\n",
       "    <tr>\n",
       "      <th>2</th>\n",
       "      <td>Anandnagar</td>\n",
       "      <td>13.033377</td>\n",
       "      <td>77.589523</td>\n",
       "      <td>Orthopaedic Department Baptist Hospital</td>\n",
       "      <td>13.035852</td>\n",
       "      <td>Hospital</td>\n",
       "    </tr>\n",
       "    <tr>\n",
       "      <th>3</th>\n",
       "      <td>Anandnagar</td>\n",
       "      <td>13.033377</td>\n",
       "      <td>77.589523</td>\n",
       "      <td>Otorhinolaryngology department BBH</td>\n",
       "      <td>13.036388</td>\n",
       "      <td>Hospital</td>\n",
       "    </tr>\n",
       "    <tr>\n",
       "      <th>4</th>\n",
       "      <td>Anandnagar</td>\n",
       "      <td>13.033377</td>\n",
       "      <td>77.589523</td>\n",
       "      <td>Surau (Musolla) Baptist Hospital</td>\n",
       "      <td>13.035556</td>\n",
       "      <td>Hospital</td>\n",
       "    </tr>\n",
       "  </tbody>\n",
       "</table>\n",
       "</div>"
      ],
      "text/plain": [
       "       location        lat       long  \\\n",
       "0  Amruthahalli  13.066513  77.596624   \n",
       "1    Anandnagar  13.033377  77.589523   \n",
       "2    Anandnagar  13.033377  77.589523   \n",
       "3    Anandnagar  13.033377  77.589523   \n",
       "4    Anandnagar  13.033377  77.589523   \n",
       "\n",
       "                                     Venue  Venue Lat Venue Cat  \n",
       "0           Amrutha Hospital, Amruthahalli  13.066810  Hospital  \n",
       "1                         Baptist Hospital  13.035633  Hospital  \n",
       "2  Orthopaedic Department Baptist Hospital  13.035852  Hospital  \n",
       "3       Otorhinolaryngology department BBH  13.036388  Hospital  \n",
       "4         Surau (Musolla) Baptist Hospital  13.035556  Hospital  "
      ]
     },
     "execution_count": 12,
     "metadata": {},
     "output_type": "execute_result"
    }
   ],
   "source": [
    "bnglu_venues.head()\n"
   ]
  },
  {
   "cell_type": "code",
   "execution_count": 13,
   "metadata": {},
   "outputs": [
    {
     "data": {
      "text/plain": [
       "(489, 6)"
      ]
     },
     "execution_count": 13,
     "metadata": {},
     "output_type": "execute_result"
    }
   ],
   "source": [
    "bnglu_venues.shape"
   ]
  },
  {
   "cell_type": "code",
   "execution_count": 15,
   "metadata": {},
   "outputs": [
    {
     "data": {
      "text/plain": [
       "array(['Hospital', 'High School', 'Middle School', 'School',\n",
       "       'Nursery School', 'Garden', 'Music School', 'Park', 'Plaza',\n",
       "       'Pet Service', 'Preschool', 'Language School', 'Elementary School',\n",
       "       'Emergency Room', 'Driving School', 'Adult Education Center',\n",
       "       'Religious School', 'Private School', 'Tech Startup'], dtype=object)"
      ]
     },
     "execution_count": 15,
     "metadata": {},
     "output_type": "execute_result"
    }
   ],
   "source": [
    "bnglu_venues[\"Venue Cat\"].unique()"
   ]
  },
  {
   "cell_type": "markdown",
   "metadata": {},
   "source": [
    "### The above venue category type were included for people with family having children and elderly family members. For children included fascilities were schools of all kind , parks and gardens . For elderly people itncludes hospitals and other helath care services and pet care was also included for family pets if they have any"
   ]
  },
  {
   "cell_type": "code",
   "execution_count": 22,
   "metadata": {},
   "outputs": [
    {
     "data": {
      "text/plain": [
       "Malleswaram West    21\n",
       "Malleswaram         21\n",
       "Vasanthnagar        16\n",
       "Jayanagar West      14\n",
       "Madhavan Park       14\n",
       "Jayanagar           14\n",
       "Mico Layout         13\n",
       "Name: location, dtype: int64"
      ]
     },
     "execution_count": 22,
     "metadata": {},
     "output_type": "execute_result"
    }
   ],
   "source": [
    "bnglu_venues[\"location\"].value_counts().head(7)"
   ]
  },
  {
   "cell_type": "code",
   "execution_count": 24,
   "metadata": {},
   "outputs": [
    {
     "data": {
      "text/html": [
       "<div>\n",
       "<style scoped>\n",
       "    .dataframe tbody tr th:only-of-type {\n",
       "        vertical-align: middle;\n",
       "    }\n",
       "\n",
       "    .dataframe tbody tr th {\n",
       "        vertical-align: top;\n",
       "    }\n",
       "\n",
       "    .dataframe thead th {\n",
       "        text-align: right;\n",
       "    }\n",
       "</style>\n",
       "<table border=\"1\" class=\"dataframe\">\n",
       "  <thead>\n",
       "    <tr style=\"text-align: right;\">\n",
       "      <th></th>\n",
       "      <th>location</th>\n",
       "      <th>lat</th>\n",
       "      <th>long</th>\n",
       "      <th>Venue</th>\n",
       "      <th>Venue Lat</th>\n",
       "      <th>Venue Cat</th>\n",
       "    </tr>\n",
       "  </thead>\n",
       "  <tbody>\n",
       "    <tr>\n",
       "      <th>254</th>\n",
       "      <td>Malleswaram</td>\n",
       "      <td>13.002735</td>\n",
       "      <td>77.570325</td>\n",
       "      <td>Poorvi Sangeeth Academy</td>\n",
       "      <td>13.001936</td>\n",
       "      <td>Music School</td>\n",
       "    </tr>\n",
       "    <tr>\n",
       "      <th>255</th>\n",
       "      <td>Malleswaram</td>\n",
       "      <td>13.002735</td>\n",
       "      <td>77.570325</td>\n",
       "      <td>Worldmusic Conservatory</td>\n",
       "      <td>13.001163</td>\n",
       "      <td>School</td>\n",
       "    </tr>\n",
       "    <tr>\n",
       "      <th>256</th>\n",
       "      <td>Malleswaram</td>\n",
       "      <td>13.002735</td>\n",
       "      <td>77.570325</td>\n",
       "      <td>Neuro Centre</td>\n",
       "      <td>13.001545</td>\n",
       "      <td>Hospital</td>\n",
       "    </tr>\n",
       "    <tr>\n",
       "      <th>257</th>\n",
       "      <td>Malleswaram</td>\n",
       "      <td>13.002735</td>\n",
       "      <td>77.570325</td>\n",
       "      <td>BP Indian</td>\n",
       "      <td>13.000404</td>\n",
       "      <td>Elementary School</td>\n",
       "    </tr>\n",
       "    <tr>\n",
       "      <th>258</th>\n",
       "      <td>Malleswaram</td>\n",
       "      <td>13.002735</td>\n",
       "      <td>77.570325</td>\n",
       "      <td>Sanjeevini Hospital</td>\n",
       "      <td>13.004051</td>\n",
       "      <td>Hospital</td>\n",
       "    </tr>\n",
       "    <tr>\n",
       "      <th>259</th>\n",
       "      <td>Malleswaram</td>\n",
       "      <td>13.002735</td>\n",
       "      <td>77.570325</td>\n",
       "      <td>Lakshmi Maternity Home</td>\n",
       "      <td>13.005785</td>\n",
       "      <td>Hospital</td>\n",
       "    </tr>\n",
       "    <tr>\n",
       "      <th>260</th>\n",
       "      <td>Malleswaram</td>\n",
       "      <td>13.002735</td>\n",
       "      <td>77.570325</td>\n",
       "      <td>Inlingua</td>\n",
       "      <td>13.001080</td>\n",
       "      <td>Language School</td>\n",
       "    </tr>\n",
       "    <tr>\n",
       "      <th>261</th>\n",
       "      <td>Malleswaram</td>\n",
       "      <td>13.002735</td>\n",
       "      <td>77.570325</td>\n",
       "      <td>Kidzee Malleswaram</td>\n",
       "      <td>13.002519</td>\n",
       "      <td>Preschool</td>\n",
       "    </tr>\n",
       "    <tr>\n",
       "      <th>262</th>\n",
       "      <td>Malleswaram</td>\n",
       "      <td>13.002735</td>\n",
       "      <td>77.570325</td>\n",
       "      <td>Sri Vidya Mandir Education Society</td>\n",
       "      <td>13.002049</td>\n",
       "      <td>High School</td>\n",
       "    </tr>\n",
       "    <tr>\n",
       "      <th>263</th>\n",
       "      <td>Malleswaram</td>\n",
       "      <td>13.002735</td>\n",
       "      <td>77.570325</td>\n",
       "      <td>Bangalore Education Socity School</td>\n",
       "      <td>12.998739</td>\n",
       "      <td>High School</td>\n",
       "    </tr>\n",
       "    <tr>\n",
       "      <th>264</th>\n",
       "      <td>Malleswaram</td>\n",
       "      <td>13.002735</td>\n",
       "      <td>77.570325</td>\n",
       "      <td>Stella Mary's School</td>\n",
       "      <td>13.007103</td>\n",
       "      <td>School</td>\n",
       "    </tr>\n",
       "    <tr>\n",
       "      <th>265</th>\n",
       "      <td>Malleswaram</td>\n",
       "      <td>13.002735</td>\n",
       "      <td>77.570325</td>\n",
       "      <td>sriranga plumanary clinic</td>\n",
       "      <td>13.007303</td>\n",
       "      <td>Hospital</td>\n",
       "    </tr>\n",
       "    <tr>\n",
       "      <th>266</th>\n",
       "      <td>Malleswaram</td>\n",
       "      <td>13.002735</td>\n",
       "      <td>77.570325</td>\n",
       "      <td>Lakshmi Nursing Home</td>\n",
       "      <td>13.006189</td>\n",
       "      <td>Hospital</td>\n",
       "    </tr>\n",
       "    <tr>\n",
       "      <th>267</th>\n",
       "      <td>Malleswaram</td>\n",
       "      <td>13.002735</td>\n",
       "      <td>77.570325</td>\n",
       "      <td>Hymamshu Jyoti Kala Peetha</td>\n",
       "      <td>13.006567</td>\n",
       "      <td>School</td>\n",
       "    </tr>\n",
       "    <tr>\n",
       "      <th>268</th>\n",
       "      <td>Malleswaram</td>\n",
       "      <td>13.002735</td>\n",
       "      <td>77.570325</td>\n",
       "      <td>Dr. Venkata Subba Rao Memorial Hospital</td>\n",
       "      <td>12.998356</td>\n",
       "      <td>Hospital</td>\n",
       "    </tr>\n",
       "    <tr>\n",
       "      <th>269</th>\n",
       "      <td>Malleswaram</td>\n",
       "      <td>13.002735</td>\n",
       "      <td>77.570325</td>\n",
       "      <td>Sri Nathyabharathi Trust</td>\n",
       "      <td>13.001281</td>\n",
       "      <td>Music School</td>\n",
       "    </tr>\n",
       "    <tr>\n",
       "      <th>270</th>\n",
       "      <td>Malleswaram</td>\n",
       "      <td>13.002735</td>\n",
       "      <td>77.570325</td>\n",
       "      <td>VAGUS SUPER SPECIALITY HOSPITAL</td>\n",
       "      <td>13.006835</td>\n",
       "      <td>Hospital</td>\n",
       "    </tr>\n",
       "    <tr>\n",
       "      <th>271</th>\n",
       "      <td>Malleswaram</td>\n",
       "      <td>13.002735</td>\n",
       "      <td>77.570325</td>\n",
       "      <td>Laxmi maternary hospital</td>\n",
       "      <td>13.005692</td>\n",
       "      <td>Hospital</td>\n",
       "    </tr>\n",
       "    <tr>\n",
       "      <th>272</th>\n",
       "      <td>Malleswaram</td>\n",
       "      <td>13.002735</td>\n",
       "      <td>77.570325</td>\n",
       "      <td>Leela hospital</td>\n",
       "      <td>12.998348</td>\n",
       "      <td>Hospital</td>\n",
       "    </tr>\n",
       "    <tr>\n",
       "      <th>273</th>\n",
       "      <td>Malleswaram</td>\n",
       "      <td>13.002735</td>\n",
       "      <td>77.570325</td>\n",
       "      <td>Manjunatha Maternity Home</td>\n",
       "      <td>13.008011</td>\n",
       "      <td>Hospital</td>\n",
       "    </tr>\n",
       "    <tr>\n",
       "      <th>274</th>\n",
       "      <td>Malleswaram</td>\n",
       "      <td>13.002735</td>\n",
       "      <td>77.570325</td>\n",
       "      <td>Narayana Super Speciality Hospital</td>\n",
       "      <td>13.000304</td>\n",
       "      <td>Hospital</td>\n",
       "    </tr>\n",
       "  </tbody>\n",
       "</table>\n",
       "</div>"
      ],
      "text/plain": [
       "        location        lat       long  \\\n",
       "254  Malleswaram  13.002735  77.570325   \n",
       "255  Malleswaram  13.002735  77.570325   \n",
       "256  Malleswaram  13.002735  77.570325   \n",
       "257  Malleswaram  13.002735  77.570325   \n",
       "258  Malleswaram  13.002735  77.570325   \n",
       "259  Malleswaram  13.002735  77.570325   \n",
       "260  Malleswaram  13.002735  77.570325   \n",
       "261  Malleswaram  13.002735  77.570325   \n",
       "262  Malleswaram  13.002735  77.570325   \n",
       "263  Malleswaram  13.002735  77.570325   \n",
       "264  Malleswaram  13.002735  77.570325   \n",
       "265  Malleswaram  13.002735  77.570325   \n",
       "266  Malleswaram  13.002735  77.570325   \n",
       "267  Malleswaram  13.002735  77.570325   \n",
       "268  Malleswaram  13.002735  77.570325   \n",
       "269  Malleswaram  13.002735  77.570325   \n",
       "270  Malleswaram  13.002735  77.570325   \n",
       "271  Malleswaram  13.002735  77.570325   \n",
       "272  Malleswaram  13.002735  77.570325   \n",
       "273  Malleswaram  13.002735  77.570325   \n",
       "274  Malleswaram  13.002735  77.570325   \n",
       "\n",
       "                                       Venue  Venue Lat          Venue Cat  \n",
       "254                  Poorvi Sangeeth Academy  13.001936       Music School  \n",
       "255                  Worldmusic Conservatory  13.001163             School  \n",
       "256                             Neuro Centre  13.001545           Hospital  \n",
       "257                                BP Indian  13.000404  Elementary School  \n",
       "258                      Sanjeevini Hospital  13.004051           Hospital  \n",
       "259                   Lakshmi Maternity Home  13.005785           Hospital  \n",
       "260                                 Inlingua  13.001080    Language School  \n",
       "261                       Kidzee Malleswaram  13.002519          Preschool  \n",
       "262       Sri Vidya Mandir Education Society  13.002049        High School  \n",
       "263        Bangalore Education Socity School  12.998739        High School  \n",
       "264                     Stella Mary's School  13.007103             School  \n",
       "265                sriranga plumanary clinic  13.007303           Hospital  \n",
       "266                     Lakshmi Nursing Home  13.006189           Hospital  \n",
       "267               Hymamshu Jyoti Kala Peetha  13.006567             School  \n",
       "268  Dr. Venkata Subba Rao Memorial Hospital  12.998356           Hospital  \n",
       "269                 Sri Nathyabharathi Trust  13.001281       Music School  \n",
       "270          VAGUS SUPER SPECIALITY HOSPITAL  13.006835           Hospital  \n",
       "271                 Laxmi maternary hospital  13.005692           Hospital  \n",
       "272                           Leela hospital  12.998348           Hospital  \n",
       "273                Manjunatha Maternity Home  13.008011           Hospital  \n",
       "274       Narayana Super Speciality Hospital  13.000304           Hospital  "
      ]
     },
     "execution_count": 24,
     "metadata": {},
     "output_type": "execute_result"
    }
   ],
   "source": [
    "bnglu_venues[bnglu_venues[\"location\"] == \"Malleswaram\"]"
   ]
  },
  {
   "cell_type": "markdown",
   "metadata": {},
   "source": [
    "### From the above details we can conclude that top 5 Locations having most number of fascilities reqiured for a joint family are :\n",
    "### 1. Malleswaram\n",
    "### 2. Vasanthnagar\n",
    "### 3. Jayanagar\n",
    "### 4. Madhavan Park\n",
    "### 5. Mico Layout\n",
    "\n"
   ]
  },
  {
   "cell_type": "markdown",
   "metadata": {},
   "source": [
    "# Part 2 - Analysis of locations for Bachelor Job seekers"
   ]
  },
  {
   "cell_type": "markdown",
   "metadata": {},
   "source": [
    "### Defining a function that will get necessary things for bacelors like food restaurants , dry cleaning services , laundry sevices , nightlife spots etc"
   ]
  },
  {
   "cell_type": "code",
   "execution_count": 26,
   "metadata": {},
   "outputs": [],
   "source": [
    "def getNearbyVenuesBach(names,latitudes, longitudes , radius = 500,limit=50):\n",
    "    venues_list=[]\n",
    "    for name , lat, lng in zip (names , latitudes , longitudes):\n",
    "        #creating the url request\n",
    "        url = 'https://api.foursquare.com/v2/venues/search?&client_id={}&client_secret={}&v={}&ll={},{}&radius={}&limit={}&categoryId=4bf58dd8d48988d1f9941735,4bf58dd8d48988d10f941735,4bf58dd8d48988d1fc941735,52f2ab2ebcbc57f1066b8b1d,4d4b7105d754a06376d81259'.format(\n",
    "    CLIENT_ID, \n",
    "    CLIENT_SECRET, \n",
    "    VERSION, \n",
    "    lat, \n",
    "    lng, \n",
    "    radius, \n",
    "    limit)\n",
    "        \n",
    "        #making the request\n",
    "        results = requests.get(url).json()['response']\n",
    "        #getting required informations only\n",
    "        \n",
    "        for i in range (len(results[\"venues\"])):\n",
    "            venues_list.append([name,lat,lng,\n",
    "                        results['venues'][i]['name'],\n",
    "                        results[\"venues\"][i][\"location\"][\"lat\"],\n",
    "                        results[\"venues\"][i]['categories'][0][\"name\"]])\n",
    "    nearby_venues=pd.DataFrame(venues_list,columns=['location','lat',\"long\",\"Venue\",\"Venue Lat\",\"Venue Cat\"])\n",
    "            \n",
    "    return (nearby_venues)\n",
    "    "
   ]
  },
  {
   "cell_type": "code",
   "execution_count": 27,
   "metadata": {},
   "outputs": [],
   "source": [
    "bach= getNearbyVenuesBach(names = df[\"Location\"],\n",
    "                             latitudes= df[\"Latitude\"],\n",
    "                             longitudes = df[\"Longitude\"])"
   ]
  },
  {
   "cell_type": "code",
   "execution_count": 28,
   "metadata": {},
   "outputs": [
    {
     "data": {
      "text/html": [
       "<div>\n",
       "<style scoped>\n",
       "    .dataframe tbody tr th:only-of-type {\n",
       "        vertical-align: middle;\n",
       "    }\n",
       "\n",
       "    .dataframe tbody tr th {\n",
       "        vertical-align: top;\n",
       "    }\n",
       "\n",
       "    .dataframe thead th {\n",
       "        text-align: right;\n",
       "    }\n",
       "</style>\n",
       "<table border=\"1\" class=\"dataframe\">\n",
       "  <thead>\n",
       "    <tr style=\"text-align: right;\">\n",
       "      <th></th>\n",
       "      <th>location</th>\n",
       "      <th>lat</th>\n",
       "      <th>long</th>\n",
       "      <th>Venue</th>\n",
       "      <th>Venue Lat</th>\n",
       "      <th>Venue Cat</th>\n",
       "    </tr>\n",
       "  </thead>\n",
       "  <tbody>\n",
       "    <tr>\n",
       "      <th>0</th>\n",
       "      <td>Adugodi</td>\n",
       "      <td>12.942847</td>\n",
       "      <td>77.610416</td>\n",
       "      <td>Hd-3</td>\n",
       "      <td>12.943977</td>\n",
       "      <td>Cocktail Bar</td>\n",
       "    </tr>\n",
       "    <tr>\n",
       "      <th>1</th>\n",
       "      <td>Adugodi</td>\n",
       "      <td>12.942847</td>\n",
       "      <td>77.610416</td>\n",
       "      <td>Bharathi Refreshments(South Indian Food) - Adu...</td>\n",
       "      <td>12.943388</td>\n",
       "      <td>Fast Food Restaurant</td>\n",
       "    </tr>\n",
       "    <tr>\n",
       "      <th>2</th>\n",
       "      <td>Adugodi</td>\n",
       "      <td>12.942847</td>\n",
       "      <td>77.610416</td>\n",
       "      <td>Sri Ganesh Upahaar</td>\n",
       "      <td>12.941766</td>\n",
       "      <td>Indian Restaurant</td>\n",
       "    </tr>\n",
       "    <tr>\n",
       "      <th>3</th>\n",
       "      <td>Adugodi</td>\n",
       "      <td>12.942847</td>\n",
       "      <td>77.610416</td>\n",
       "      <td>Navaneetha Andhra Restaurant</td>\n",
       "      <td>12.942357</td>\n",
       "      <td>Andhra Restaurant</td>\n",
       "    </tr>\n",
       "    <tr>\n",
       "      <th>4</th>\n",
       "      <td>Adugodi</td>\n",
       "      <td>12.942847</td>\n",
       "      <td>77.610416</td>\n",
       "      <td>adigas</td>\n",
       "      <td>12.940589</td>\n",
       "      <td>Indian Restaurant</td>\n",
       "    </tr>\n",
       "  </tbody>\n",
       "</table>\n",
       "</div>"
      ],
      "text/plain": [
       "  location        lat       long  \\\n",
       "0  Adugodi  12.942847  77.610416   \n",
       "1  Adugodi  12.942847  77.610416   \n",
       "2  Adugodi  12.942847  77.610416   \n",
       "3  Adugodi  12.942847  77.610416   \n",
       "4  Adugodi  12.942847  77.610416   \n",
       "\n",
       "                                               Venue  Venue Lat  \\\n",
       "0                                               Hd-3  12.943977   \n",
       "1  Bharathi Refreshments(South Indian Food) - Adu...  12.943388   \n",
       "2                                 Sri Ganesh Upahaar  12.941766   \n",
       "3                       Navaneetha Andhra Restaurant  12.942357   \n",
       "4                                             adigas  12.940589   \n",
       "\n",
       "              Venue Cat  \n",
       "0          Cocktail Bar  \n",
       "1  Fast Food Restaurant  \n",
       "2     Indian Restaurant  \n",
       "3     Andhra Restaurant  \n",
       "4     Indian Restaurant  "
      ]
     },
     "execution_count": 28,
     "metadata": {},
     "output_type": "execute_result"
    }
   ],
   "source": [
    "bach.head()"
   ]
  },
  {
   "cell_type": "code",
   "execution_count": 29,
   "metadata": {},
   "outputs": [],
   "source": [
    "bach.to_csv(r\"C:\\Users\\Ravi\\Desktop\\projects\\bngl_bac.csv\")"
   ]
  },
  {
   "cell_type": "code",
   "execution_count": 30,
   "metadata": {},
   "outputs": [
    {
     "data": {
      "text/html": [
       "<div>\n",
       "<style scoped>\n",
       "    .dataframe tbody tr th:only-of-type {\n",
       "        vertical-align: middle;\n",
       "    }\n",
       "\n",
       "    .dataframe tbody tr th {\n",
       "        vertical-align: top;\n",
       "    }\n",
       "\n",
       "    .dataframe thead th {\n",
       "        text-align: right;\n",
       "    }\n",
       "</style>\n",
       "<table border=\"1\" class=\"dataframe\">\n",
       "  <thead>\n",
       "    <tr style=\"text-align: right;\">\n",
       "      <th></th>\n",
       "      <th>location</th>\n",
       "      <th>lat</th>\n",
       "      <th>long</th>\n",
       "      <th>Venue</th>\n",
       "      <th>Venue Lat</th>\n",
       "      <th>Venue Cat</th>\n",
       "    </tr>\n",
       "  </thead>\n",
       "  <tbody>\n",
       "    <tr>\n",
       "      <th>0</th>\n",
       "      <td>Adugodi</td>\n",
       "      <td>12.942847</td>\n",
       "      <td>77.610416</td>\n",
       "      <td>Hd-3</td>\n",
       "      <td>12.943977</td>\n",
       "      <td>Cocktail Bar</td>\n",
       "    </tr>\n",
       "    <tr>\n",
       "      <th>1</th>\n",
       "      <td>Adugodi</td>\n",
       "      <td>12.942847</td>\n",
       "      <td>77.610416</td>\n",
       "      <td>Bharathi Refreshments(South Indian Food) - Adu...</td>\n",
       "      <td>12.943388</td>\n",
       "      <td>Fast Food Restaurant</td>\n",
       "    </tr>\n",
       "    <tr>\n",
       "      <th>2</th>\n",
       "      <td>Adugodi</td>\n",
       "      <td>12.942847</td>\n",
       "      <td>77.610416</td>\n",
       "      <td>Sri Ganesh Upahaar</td>\n",
       "      <td>12.941766</td>\n",
       "      <td>Indian Restaurant</td>\n",
       "    </tr>\n",
       "    <tr>\n",
       "      <th>3</th>\n",
       "      <td>Adugodi</td>\n",
       "      <td>12.942847</td>\n",
       "      <td>77.610416</td>\n",
       "      <td>Navaneetha Andhra Restaurant</td>\n",
       "      <td>12.942357</td>\n",
       "      <td>Andhra Restaurant</td>\n",
       "    </tr>\n",
       "    <tr>\n",
       "      <th>4</th>\n",
       "      <td>Adugodi</td>\n",
       "      <td>12.942847</td>\n",
       "      <td>77.610416</td>\n",
       "      <td>adigas</td>\n",
       "      <td>12.940589</td>\n",
       "      <td>Indian Restaurant</td>\n",
       "    </tr>\n",
       "  </tbody>\n",
       "</table>\n",
       "</div>"
      ],
      "text/plain": [
       "  location        lat       long  \\\n",
       "0  Adugodi  12.942847  77.610416   \n",
       "1  Adugodi  12.942847  77.610416   \n",
       "2  Adugodi  12.942847  77.610416   \n",
       "3  Adugodi  12.942847  77.610416   \n",
       "4  Adugodi  12.942847  77.610416   \n",
       "\n",
       "                                               Venue  Venue Lat  \\\n",
       "0                                               Hd-3  12.943977   \n",
       "1  Bharathi Refreshments(South Indian Food) - Adu...  12.943388   \n",
       "2                                 Sri Ganesh Upahaar  12.941766   \n",
       "3                       Navaneetha Andhra Restaurant  12.942357   \n",
       "4                                             adigas  12.940589   \n",
       "\n",
       "              Venue Cat  \n",
       "0          Cocktail Bar  \n",
       "1  Fast Food Restaurant  \n",
       "2     Indian Restaurant  \n",
       "3     Andhra Restaurant  \n",
       "4     Indian Restaurant  "
      ]
     },
     "execution_count": 30,
     "metadata": {},
     "output_type": "execute_result"
    }
   ],
   "source": [
    "bach.head()"
   ]
  },
  {
   "cell_type": "code",
   "execution_count": 33,
   "metadata": {},
   "outputs": [
    {
     "data": {
      "text/plain": [
       "(2494, 6)"
      ]
     },
     "execution_count": 33,
     "metadata": {},
     "output_type": "execute_result"
    }
   ],
   "source": [
    "bach.shape"
   ]
  },
  {
   "cell_type": "code",
   "execution_count": 46,
   "metadata": {},
   "outputs": [
    {
     "data": {
      "text/plain": [
       "array(['Cocktail Bar', 'Fast Food Restaurant', 'Indian Restaurant',\n",
       "       'Andhra Restaurant', 'Beer Garden', 'Cafeteria',\n",
       "       'Food & Drink Shop', 'Karnataka Restaurant', 'Bar', 'Wine Bar',\n",
       "       'South Indian Restaurant', 'Chaat Place', 'Dhaba', 'Whisky Bar',\n",
       "       'Other Nightlife', 'Hotel Bar', 'Farmers Market', 'Grocery Store',\n",
       "       'Laundry Service', 'Liquor Store', 'Udupi Restaurant',\n",
       "       'Szechuan Restaurant', 'Breakfast Spot', 'North Indian Restaurant',\n",
       "       'College Cafeteria', 'Multicuisine Indian Restaurant', 'Brewery',\n",
       "       'Nightclub', 'Fish Market', 'Snack Place', 'Butcher',\n",
       "       'Punjabi Restaurant', 'Department Store',\n",
       "       'Maharashtrian Restaurant', 'Vegetarian / Vegan Restaurant',\n",
       "       'Bakery', 'Indian Sweet Shop', 'Dry Cleaner', 'Pub',\n",
       "       'Gourmet Shop', 'Kerala Restaurant', 'Indian Chinese Restaurant',\n",
       "       'Dairy Store', 'Tennis Stadium', 'Sports Bar',\n",
       "       'Middle Eastern Restaurant', 'Supermarket', 'Diner', 'Gay Bar',\n",
       "       'Strip Club', 'Hotel', 'General Entertainment', 'Lounge',\n",
       "       'Dive Bar', 'Wine Shop', 'Mughlai Restaurant',\n",
       "       'Seafood Restaurant', 'Bengali Restaurant', 'Food',\n",
       "       'Mediterranean Restaurant', 'BBQ Joint', 'Rajasthani Restaurant',\n",
       "       'Health Food Store', 'Food Truck', 'Street Food Gathering',\n",
       "       'Hyderabadi Restaurant', 'Parsi Restaurant', 'Asian Restaurant',\n",
       "       'Hookah Bar', 'Music Venue', 'Northeast Indian Restaurant',\n",
       "       'American Restaurant', 'Arcade', 'Chettinad Restaurant',\n",
       "       'Organic Grocery', 'Restaurant', 'Food Service',\n",
       "       'Chinese Restaurant', 'African Restaurant', 'Gastropub',\n",
       "       'Italian Restaurant', 'Shopping Mall', 'Beer Bar', 'Irish Pub',\n",
       "       'Café', 'Event Space', 'Beer Store', 'Cheese Shop', 'Karaoke Bar',\n",
       "       'Coffee Shop', 'Thai Restaurant', 'Office', 'Juice Bar',\n",
       "       'Kebab Restaurant', 'Mexican Restaurant', 'Speakeasy',\n",
       "       'Nightlife Spot', 'Eastern European Restaurant',\n",
       "       'Southern / Soul Food Restaurant', 'Dessert Shop'], dtype=object)"
      ]
     },
     "execution_count": 46,
     "metadata": {},
     "output_type": "execute_result"
    }
   ],
   "source": [
    "bach[\"Venue Cat\"].unique()"
   ]
  },
  {
   "cell_type": "markdown",
   "metadata": {},
   "source": [
    "### The above are the categories that are used for analyzing the locations for bachelors who are seeking the job."
   ]
  },
  {
   "cell_type": "markdown",
   "metadata": {},
   "source": [
    "#### Now lets check the locations having maximum number of required venues."
   ]
  },
  {
   "cell_type": "code",
   "execution_count": 34,
   "metadata": {},
   "outputs": [
    {
     "data": {
      "text/plain": [
       "Hosur Road             50\n",
       "Brigade Road           50\n",
       "Museum Road            50\n",
       "Hsr Layout             50\n",
       "Koramangala I block    49\n",
       "                       ..\n",
       "Bagalgunte              1\n",
       "Goripalya               1\n",
       "Yemalur                 1\n",
       "Jakkur                  1\n",
       "Kadabagere              1\n",
       "Name: location, Length: 122, dtype: int64"
      ]
     },
     "execution_count": 34,
     "metadata": {},
     "output_type": "execute_result"
    }
   ],
   "source": [
    "bach[\"location\"].value_counts()"
   ]
  },
  {
   "cell_type": "code",
   "execution_count": 37,
   "metadata": {},
   "outputs": [
    {
     "data": {
      "text/html": [
       "<div>\n",
       "<style scoped>\n",
       "    .dataframe tbody tr th:only-of-type {\n",
       "        vertical-align: middle;\n",
       "    }\n",
       "\n",
       "    .dataframe tbody tr th {\n",
       "        vertical-align: top;\n",
       "    }\n",
       "\n",
       "    .dataframe thead th {\n",
       "        text-align: right;\n",
       "    }\n",
       "</style>\n",
       "<table border=\"1\" class=\"dataframe\">\n",
       "  <thead>\n",
       "    <tr style=\"text-align: right;\">\n",
       "      <th></th>\n",
       "      <th>location</th>\n",
       "      <th>lat</th>\n",
       "      <th>long</th>\n",
       "      <th>Venue</th>\n",
       "      <th>Venue Lat</th>\n",
       "      <th>Venue Cat</th>\n",
       "    </tr>\n",
       "  </thead>\n",
       "  <tbody>\n",
       "    <tr>\n",
       "      <th>709</th>\n",
       "      <td>Hosur Road</td>\n",
       "      <td>12.930723</td>\n",
       "      <td>77.614401</td>\n",
       "      <td>Bier Garten</td>\n",
       "      <td>12.933482</td>\n",
       "      <td>Brewery</td>\n",
       "    </tr>\n",
       "    <tr>\n",
       "      <th>710</th>\n",
       "      <td>Hosur Road</td>\n",
       "      <td>12.930723</td>\n",
       "      <td>77.614401</td>\n",
       "      <td>Crawl Street</td>\n",
       "      <td>12.932611</td>\n",
       "      <td>Bar</td>\n",
       "    </tr>\n",
       "    <tr>\n",
       "      <th>711</th>\n",
       "      <td>Hosur Road</td>\n",
       "      <td>12.930723</td>\n",
       "      <td>77.614401</td>\n",
       "      <td>Hyderabad House</td>\n",
       "      <td>12.932583</td>\n",
       "      <td>Indian Restaurant</td>\n",
       "    </tr>\n",
       "    <tr>\n",
       "      <th>712</th>\n",
       "      <td>Hosur Road</td>\n",
       "      <td>12.930723</td>\n",
       "      <td>77.614401</td>\n",
       "      <td>Madeena Hotel</td>\n",
       "      <td>12.935153</td>\n",
       "      <td>Indian Restaurant</td>\n",
       "    </tr>\n",
       "    <tr>\n",
       "      <th>713</th>\n",
       "      <td>Hosur Road</td>\n",
       "      <td>12.930723</td>\n",
       "      <td>77.614401</td>\n",
       "      <td>Vijayawada Style</td>\n",
       "      <td>12.933852</td>\n",
       "      <td>Indian Restaurant</td>\n",
       "    </tr>\n",
       "    <tr>\n",
       "      <th>714</th>\n",
       "      <td>Hosur Road</td>\n",
       "      <td>12.930723</td>\n",
       "      <td>77.614401</td>\n",
       "      <td>XOOX Brewmill</td>\n",
       "      <td>12.935507</td>\n",
       "      <td>Brewery</td>\n",
       "    </tr>\n",
       "    <tr>\n",
       "      <th>715</th>\n",
       "      <td>Hosur Road</td>\n",
       "      <td>12.930723</td>\n",
       "      <td>77.614401</td>\n",
       "      <td>Coin Laundromat</td>\n",
       "      <td>12.926370</td>\n",
       "      <td>Laundry Service</td>\n",
       "    </tr>\n",
       "    <tr>\n",
       "      <th>716</th>\n",
       "      <td>Hosur Road</td>\n",
       "      <td>12.930723</td>\n",
       "      <td>77.614401</td>\n",
       "      <td>Rajdhani Snacklet</td>\n",
       "      <td>12.934707</td>\n",
       "      <td>Rajasthani Restaurant</td>\n",
       "    </tr>\n",
       "    <tr>\n",
       "      <th>717</th>\n",
       "      <td>Hosur Road</td>\n",
       "      <td>12.930723</td>\n",
       "      <td>77.614401</td>\n",
       "      <td>Idli Dosa Coffee</td>\n",
       "      <td>12.933630</td>\n",
       "      <td>South Indian Restaurant</td>\n",
       "    </tr>\n",
       "    <tr>\n",
       "      <th>718</th>\n",
       "      <td>Hosur Road</td>\n",
       "      <td>12.930723</td>\n",
       "      <td>77.614401</td>\n",
       "      <td>Fenny's</td>\n",
       "      <td>12.935101</td>\n",
       "      <td>Bar</td>\n",
       "    </tr>\n",
       "  </tbody>\n",
       "</table>\n",
       "</div>"
      ],
      "text/plain": [
       "       location        lat       long              Venue  Venue Lat  \\\n",
       "709  Hosur Road  12.930723  77.614401        Bier Garten  12.933482   \n",
       "710  Hosur Road  12.930723  77.614401       Crawl Street  12.932611   \n",
       "711  Hosur Road  12.930723  77.614401    Hyderabad House  12.932583   \n",
       "712  Hosur Road  12.930723  77.614401      Madeena Hotel  12.935153   \n",
       "713  Hosur Road  12.930723  77.614401   Vijayawada Style  12.933852   \n",
       "714  Hosur Road  12.930723  77.614401      XOOX Brewmill  12.935507   \n",
       "715  Hosur Road  12.930723  77.614401    Coin Laundromat  12.926370   \n",
       "716  Hosur Road  12.930723  77.614401  Rajdhani Snacklet  12.934707   \n",
       "717  Hosur Road  12.930723  77.614401   Idli Dosa Coffee  12.933630   \n",
       "718  Hosur Road  12.930723  77.614401            Fenny's  12.935101   \n",
       "\n",
       "                   Venue Cat  \n",
       "709                  Brewery  \n",
       "710                      Bar  \n",
       "711        Indian Restaurant  \n",
       "712        Indian Restaurant  \n",
       "713        Indian Restaurant  \n",
       "714                  Brewery  \n",
       "715          Laundry Service  \n",
       "716    Rajasthani Restaurant  \n",
       "717  South Indian Restaurant  \n",
       "718                      Bar  "
      ]
     },
     "execution_count": 37,
     "metadata": {},
     "output_type": "execute_result"
    }
   ],
   "source": [
    "bach[bach[\"location\"] == \"Hosur Road\"].head(10)"
   ]
  },
  {
   "cell_type": "markdown",
   "metadata": {},
   "source": [
    "## From tha above data we can say that top 5 location for bachelor job seekers or employes are : \n",
    "### 1. Hosur Road\n",
    "### 2. Brigade Road\n",
    "### 3. Museum Road\n",
    "### 4. HSR Layout\n",
    "### 5. Koramangla I Block\n"
   ]
  },
  {
   "cell_type": "markdown",
   "metadata": {},
   "source": [
    "# Part 3 Analysis of location for college students"
   ]
  },
  {
   "cell_type": "markdown",
   "metadata": {},
   "source": [
    "### Defing a function for that are requuired for college students like hostels, stationery shop , library , laundry , book stores , food , cafeteria etc."
   ]
  },
  {
   "cell_type": "code",
   "execution_count": 39,
   "metadata": {},
   "outputs": [],
   "source": [
    "def getNearbyVenuesStu(names,latitudes, longitudes , radius = 500,limit=50):\n",
    "    venues_list=[]\n",
    "    for name , lat, lng in zip (names , latitudes , longitudes):\n",
    "        #creating the url request\n",
    "        url = 'https://api.foursquare.com/v2/venues/search?&client_id={}&client_secret={}&v={}&ll={},{}&radius={}&limit={}&categoryId=52f2ab2ebcbc57f1066b8b21,4bf58dd8d48988d1fc941735,52f2ab2ebcbc57f1066b8b1d,4bf58dd8d48988d1ee931735,4d4b7105d754a06372d81259,4bf58dd8d48988d114951735'.format(\n",
    "    CLIENT_ID, \n",
    "    CLIENT_SECRET, \n",
    "    VERSION, \n",
    "    lat, \n",
    "    lng, \n",
    "    radius, \n",
    "    limit)\n",
    "        \n",
    "        #making the request\n",
    "        results = requests.get(url).json()['response']\n",
    "        #getting required informations only\n",
    "        \n",
    "        for i in range (len(results[\"venues\"])):\n",
    "            venues_list.append([name,lat,lng,\n",
    "                        results['venues'][i]['name'],\n",
    "                        results[\"venues\"][i][\"location\"][\"lat\"],\n",
    "                        results[\"venues\"][i]['categories'][0][\"name\"]])\n",
    "    nearby_venues=pd.DataFrame(venues_list,columns=['location','lat',\"long\",\"Venue\",\"Venue Lat\",\"Venue Cat\"])\n",
    "            \n",
    "    return (nearby_venues)\n",
    "    "
   ]
  },
  {
   "cell_type": "code",
   "execution_count": 40,
   "metadata": {},
   "outputs": [],
   "source": [
    "students = getNearbyVenuesStu(names = df[\"Location\"],\n",
    "                             latitudes= df[\"Latitude\"],\n",
    "                             longitudes = df[\"Longitude\"])"
   ]
  },
  {
   "cell_type": "code",
   "execution_count": 41,
   "metadata": {},
   "outputs": [],
   "source": [
    "students.to_csv(r\"C:\\Users\\Ravi\\Desktop\\projects\\students.csv\")"
   ]
  },
  {
   "cell_type": "code",
   "execution_count": 42,
   "metadata": {},
   "outputs": [
    {
     "data": {
      "text/html": [
       "<div>\n",
       "<style scoped>\n",
       "    .dataframe tbody tr th:only-of-type {\n",
       "        vertical-align: middle;\n",
       "    }\n",
       "\n",
       "    .dataframe tbody tr th {\n",
       "        vertical-align: top;\n",
       "    }\n",
       "\n",
       "    .dataframe thead th {\n",
       "        text-align: right;\n",
       "    }\n",
       "</style>\n",
       "<table border=\"1\" class=\"dataframe\">\n",
       "  <thead>\n",
       "    <tr style=\"text-align: right;\">\n",
       "      <th></th>\n",
       "      <th>location</th>\n",
       "      <th>lat</th>\n",
       "      <th>long</th>\n",
       "      <th>Venue</th>\n",
       "      <th>Venue Lat</th>\n",
       "      <th>Venue Cat</th>\n",
       "    </tr>\n",
       "  </thead>\n",
       "  <tbody>\n",
       "    <tr>\n",
       "      <th>0</th>\n",
       "      <td>Adugodi</td>\n",
       "      <td>12.942847</td>\n",
       "      <td>77.610416</td>\n",
       "      <td>Indian Retail School</td>\n",
       "      <td>12.942211</td>\n",
       "      <td>College Administrative Building</td>\n",
       "    </tr>\n",
       "    <tr>\n",
       "      <th>1</th>\n",
       "      <td>Adugodi</td>\n",
       "      <td>12.942847</td>\n",
       "      <td>77.610416</td>\n",
       "      <td>Evergreen Paying Guest</td>\n",
       "      <td>12.939677</td>\n",
       "      <td>Hostel</td>\n",
       "    </tr>\n",
       "    <tr>\n",
       "      <th>2</th>\n",
       "      <td>Adugodi</td>\n",
       "      <td>12.942847</td>\n",
       "      <td>77.610416</td>\n",
       "      <td>Sysinnova Infotech</td>\n",
       "      <td>12.944200</td>\n",
       "      <td>Student Center</td>\n",
       "    </tr>\n",
       "    <tr>\n",
       "      <th>3</th>\n",
       "      <td>Adugodi</td>\n",
       "      <td>12.942847</td>\n",
       "      <td>77.610416</td>\n",
       "      <td>National institute of Animal Nutrition and Phy...</td>\n",
       "      <td>12.943050</td>\n",
       "      <td>College Auditorium</td>\n",
       "    </tr>\n",
       "    <tr>\n",
       "      <th>4</th>\n",
       "      <td>Amruthahalli</td>\n",
       "      <td>13.066513</td>\n",
       "      <td>77.596624</td>\n",
       "      <td>Bright Kid Montessori House</td>\n",
       "      <td>13.069784</td>\n",
       "      <td>College Academic Building</td>\n",
       "    </tr>\n",
       "  </tbody>\n",
       "</table>\n",
       "</div>"
      ],
      "text/plain": [
       "       location        lat       long  \\\n",
       "0       Adugodi  12.942847  77.610416   \n",
       "1       Adugodi  12.942847  77.610416   \n",
       "2       Adugodi  12.942847  77.610416   \n",
       "3       Adugodi  12.942847  77.610416   \n",
       "4  Amruthahalli  13.066513  77.596624   \n",
       "\n",
       "                                               Venue  Venue Lat  \\\n",
       "0                               Indian Retail School  12.942211   \n",
       "1                             Evergreen Paying Guest  12.939677   \n",
       "2                                 Sysinnova Infotech  12.944200   \n",
       "3  National institute of Animal Nutrition and Phy...  12.943050   \n",
       "4                        Bright Kid Montessori House  13.069784   \n",
       "\n",
       "                         Venue Cat  \n",
       "0  College Administrative Building  \n",
       "1                           Hostel  \n",
       "2                   Student Center  \n",
       "3               College Auditorium  \n",
       "4        College Academic Building  "
      ]
     },
     "execution_count": 42,
     "metadata": {},
     "output_type": "execute_result"
    }
   ],
   "source": [
    "students.head()"
   ]
  },
  {
   "cell_type": "code",
   "execution_count": 44,
   "metadata": {},
   "outputs": [
    {
     "data": {
      "text/plain": [
       "(1121, 6)"
      ]
     },
     "execution_count": 44,
     "metadata": {},
     "output_type": "execute_result"
    }
   ],
   "source": [
    "students.shape"
   ]
  },
  {
   "cell_type": "code",
   "execution_count": 45,
   "metadata": {},
   "outputs": [
    {
     "data": {
      "text/plain": [
       "array(['College Administrative Building', 'Hostel', 'Student Center',\n",
       "       'College Auditorium', 'College Academic Building',\n",
       "       'College Library', 'College Classroom', 'University',\n",
       "       'College Engineering Building', 'Medical School',\n",
       "       'College Rec Center', 'College Cafeteria',\n",
       "       'General College & University', 'College Technology Building',\n",
       "       'Laundry Service', 'Bookstore', 'College Bookstore', 'College Gym',\n",
       "       'College Residence Hall', 'Law School',\n",
       "       'College Communications Building', 'Fraternity House',\n",
       "       'Trade School', 'College Science Building',\n",
       "       'College Basketball Court', 'College Lab', 'College Math Building',\n",
       "       'Dry Cleaner', 'College Theater', 'College Arts Building',\n",
       "       'College & University', 'College Soccer Field', 'College Quad',\n",
       "       'Community College', 'Stationery Store', 'College Football Field',\n",
       "       'College Hockey Rink', 'College Cricket Pitch', 'Hospital',\n",
       "       'College Tennis Court', 'Hotel', 'Café', 'College Stadium',\n",
       "       'College Track', 'Department Store', 'Tech Startup',\n",
       "       'Electronics Store', 'Concert Hall', 'Library', 'Sorority House'],\n",
       "      dtype=object)"
      ]
     },
     "execution_count": 45,
     "metadata": {},
     "output_type": "execute_result"
    }
   ],
   "source": [
    "students[\"Venue Cat\"].unique()"
   ]
  },
  {
   "cell_type": "markdown",
   "metadata": {},
   "source": [
    "### The above venue category are used to analyze the locations for college students"
   ]
  },
  {
   "cell_type": "markdown",
   "metadata": {},
   "source": [
    "### Lets check locations having maximum of these venues."
   ]
  },
  {
   "cell_type": "code",
   "execution_count": 47,
   "metadata": {},
   "outputs": [
    {
     "data": {
      "text/plain": [
       "Msrit                50\n",
       "Dharmaram College    47\n",
       "Taverekere           47\n",
       "Brigade Road         46\n",
       "Museum Road          44\n",
       "                     ..\n",
       "Deepanjalinagar       1\n",
       "Hulimavu              1\n",
       "Nayandahalli          1\n",
       "Ullalu Upanagara      1\n",
       "Viveknagar            1\n",
       "Name: location, Length: 117, dtype: int64"
      ]
     },
     "execution_count": 47,
     "metadata": {},
     "output_type": "execute_result"
    }
   ],
   "source": [
    "students[\"location\"].value_counts()"
   ]
  },
  {
   "cell_type": "code",
   "execution_count": 49,
   "metadata": {},
   "outputs": [
    {
     "data": {
      "text/html": [
       "<div>\n",
       "<style scoped>\n",
       "    .dataframe tbody tr th:only-of-type {\n",
       "        vertical-align: middle;\n",
       "    }\n",
       "\n",
       "    .dataframe tbody tr th {\n",
       "        vertical-align: top;\n",
       "    }\n",
       "\n",
       "    .dataframe thead th {\n",
       "        text-align: right;\n",
       "    }\n",
       "</style>\n",
       "<table border=\"1\" class=\"dataframe\">\n",
       "  <thead>\n",
       "    <tr style=\"text-align: right;\">\n",
       "      <th></th>\n",
       "      <th>location</th>\n",
       "      <th>lat</th>\n",
       "      <th>long</th>\n",
       "      <th>Venue</th>\n",
       "      <th>Venue Lat</th>\n",
       "      <th>Venue Cat</th>\n",
       "    </tr>\n",
       "  </thead>\n",
       "  <tbody>\n",
       "    <tr>\n",
       "      <th>736</th>\n",
       "      <td>Msrit</td>\n",
       "      <td>13.030955</td>\n",
       "      <td>77.564856</td>\n",
       "      <td>M S Ramaiah Institute of Technology Bangalore</td>\n",
       "      <td>13.031549</td>\n",
       "      <td>General College &amp; University</td>\n",
       "    </tr>\n",
       "    <tr>\n",
       "      <th>737</th>\n",
       "      <td>Msrit</td>\n",
       "      <td>13.030955</td>\n",
       "      <td>77.564856</td>\n",
       "      <td>New MSRIT canteen</td>\n",
       "      <td>13.031370</td>\n",
       "      <td>College Cafeteria</td>\n",
       "    </tr>\n",
       "    <tr>\n",
       "      <th>738</th>\n",
       "      <td>Msrit</td>\n",
       "      <td>13.030955</td>\n",
       "      <td>77.564856</td>\n",
       "      <td>MSRIT</td>\n",
       "      <td>13.031312</td>\n",
       "      <td>College &amp; University</td>\n",
       "    </tr>\n",
       "    <tr>\n",
       "      <th>739</th>\n",
       "      <td>Msrit</td>\n",
       "      <td>13.030955</td>\n",
       "      <td>77.564856</td>\n",
       "      <td>M S Ramaiah medical college</td>\n",
       "      <td>13.030790</td>\n",
       "      <td>Medical School</td>\n",
       "    </tr>\n",
       "    <tr>\n",
       "      <th>740</th>\n",
       "      <td>Msrit</td>\n",
       "      <td>13.030955</td>\n",
       "      <td>77.564856</td>\n",
       "      <td>JRD Tata Auditorium, NIAS</td>\n",
       "      <td>13.029984</td>\n",
       "      <td>College Auditorium</td>\n",
       "    </tr>\n",
       "    <tr>\n",
       "      <th>741</th>\n",
       "      <td>Msrit</td>\n",
       "      <td>13.030955</td>\n",
       "      <td>77.564856</td>\n",
       "      <td>Msr Law Building</td>\n",
       "      <td>13.030105</td>\n",
       "      <td>Law School</td>\n",
       "    </tr>\n",
       "    <tr>\n",
       "      <th>742</th>\n",
       "      <td>Msrit</td>\n",
       "      <td>13.030955</td>\n",
       "      <td>77.564856</td>\n",
       "      <td>svit Bangalore</td>\n",
       "      <td>13.031368</td>\n",
       "      <td>College Academic Building</td>\n",
       "    </tr>\n",
       "    <tr>\n",
       "      <th>743</th>\n",
       "      <td>Msrit</td>\n",
       "      <td>13.030955</td>\n",
       "      <td>77.564856</td>\n",
       "      <td>NIAS</td>\n",
       "      <td>13.029176</td>\n",
       "      <td>College Engineering Building</td>\n",
       "    </tr>\n",
       "    <tr>\n",
       "      <th>744</th>\n",
       "      <td>Msrit</td>\n",
       "      <td>13.030955</td>\n",
       "      <td>77.564856</td>\n",
       "      <td>M.S.Ramaiah Engineering Boys Hostel</td>\n",
       "      <td>13.032142</td>\n",
       "      <td>College Residence Hall</td>\n",
       "    </tr>\n",
       "    <tr>\n",
       "      <th>745</th>\n",
       "      <td>Msrit</td>\n",
       "      <td>13.030955</td>\n",
       "      <td>77.564856</td>\n",
       "      <td>laundry</td>\n",
       "      <td>13.033875</td>\n",
       "      <td>Laundry Service</td>\n",
       "    </tr>\n",
       "  </tbody>\n",
       "</table>\n",
       "</div>"
      ],
      "text/plain": [
       "    location        lat       long  \\\n",
       "736    Msrit  13.030955  77.564856   \n",
       "737    Msrit  13.030955  77.564856   \n",
       "738    Msrit  13.030955  77.564856   \n",
       "739    Msrit  13.030955  77.564856   \n",
       "740    Msrit  13.030955  77.564856   \n",
       "741    Msrit  13.030955  77.564856   \n",
       "742    Msrit  13.030955  77.564856   \n",
       "743    Msrit  13.030955  77.564856   \n",
       "744    Msrit  13.030955  77.564856   \n",
       "745    Msrit  13.030955  77.564856   \n",
       "\n",
       "                                             Venue  Venue Lat  \\\n",
       "736  M S Ramaiah Institute of Technology Bangalore  13.031549   \n",
       "737                              New MSRIT canteen  13.031370   \n",
       "738                                          MSRIT  13.031312   \n",
       "739                    M S Ramaiah medical college  13.030790   \n",
       "740                      JRD Tata Auditorium, NIAS  13.029984   \n",
       "741                               Msr Law Building  13.030105   \n",
       "742                                 svit Bangalore  13.031368   \n",
       "743                                           NIAS  13.029176   \n",
       "744            M.S.Ramaiah Engineering Boys Hostel  13.032142   \n",
       "745                                        laundry  13.033875   \n",
       "\n",
       "                        Venue Cat  \n",
       "736  General College & University  \n",
       "737             College Cafeteria  \n",
       "738          College & University  \n",
       "739                Medical School  \n",
       "740            College Auditorium  \n",
       "741                    Law School  \n",
       "742     College Academic Building  \n",
       "743  College Engineering Building  \n",
       "744        College Residence Hall  \n",
       "745               Laundry Service  "
      ]
     },
     "execution_count": 49,
     "metadata": {},
     "output_type": "execute_result"
    }
   ],
   "source": [
    "students[students[\"location\"]== \"Msrit\"].head(10)"
   ]
  },
  {
   "cell_type": "markdown",
   "metadata": {},
   "source": [
    "## From the above data we can say that top 5 locations for college students are:\n",
    "### 1. Msrit\n",
    "### 2. Dharmaram College\n",
    "### 3. Taverekere\n",
    "### 4. Brigade Road\n",
    "### 5. Museum Road"
   ]
  },
  {
   "cell_type": "markdown",
   "metadata": {},
   "source": [
    "\n",
    "\n",
    "\n",
    "\n",
    "\n",
    "#                            PROJECT COMPLETE !!"
   ]
  },
  {
   "cell_type": "code",
   "execution_count": null,
   "metadata": {},
   "outputs": [],
   "source": []
  }
 ],
 "metadata": {
  "kernelspec": {
   "display_name": "Python 3",
   "language": "python",
   "name": "python3"
  },
  "language_info": {
   "codemirror_mode": {
    "name": "ipython",
    "version": 3
   },
   "file_extension": ".py",
   "mimetype": "text/x-python",
   "name": "python",
   "nbconvert_exporter": "python",
   "pygments_lexer": "ipython3",
   "version": "3.7.4"
  }
 },
 "nbformat": 4,
 "nbformat_minor": 4
}
